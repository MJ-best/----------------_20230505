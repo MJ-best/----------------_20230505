{
  "nbformat": 4,
  "nbformat_minor": 0,
  "metadata": {
    "colab": {
      "provenance": [],
      "authorship_tag": "ABX9TyOqOJNLJZw/mG4mtdl9fLZp",
      "include_colab_link": true
    },
    "kernelspec": {
      "name": "python3",
      "display_name": "Python 3"
    },
    "language_info": {
      "name": "python"
    }
  },
  "cells": [
    {
      "cell_type": "markdown",
      "metadata": {
        "id": "view-in-github",
        "colab_type": "text"
      },
      "source": [
        "<a href=\"https://colab.research.google.com/github/MJ-best/coding_test_study/blob/master/20230512_7%EC%9D%BC%EC%B0%A8_%EA%B7%B8%EB%9E%98%ED%94%84%ED%83%90%EC%83%89.ipynb\" target=\"_parent\"><img src=\"https://colab.research.google.com/assets/colab-badge.svg\" alt=\"Open In Colab\"/></a>"
      ]
    },
    {
      "cell_type": "markdown",
      "source": [
        "음료수 얼려먹기\n",
        "\n",
        "N x M 크기의 얼음틀\n",
        "\n",
        "입력\n",
        "\n",
        "001\n",
        "\n",
        "010\n",
        "\n",
        "101\n",
        "\n",
        "출력\n",
        "\n",
        "3"
      ],
      "metadata": {
        "id": "WaPagv8RKVBk"
      }
    },
    {
      "cell_type": "code",
      "execution_count": 32,
      "metadata": {
        "id": "eYRR3MJCZ1bE",
        "colab": {
          "base_uri": "https://localhost:8080/"
        },
        "outputId": "1dccc097-0d0e-4b9a-81c5-fbab95f125d3"
      },
      "outputs": [
        {
          "name": "stdout",
          "output_type": "stream",
          "text": [
            "3 3\n",
            "101\n",
            "010\n",
            "111\n"
          ]
        }
      ],
      "source": [
        "n, m = map(int, input().split())\n",
        "\n",
        "graph = []\n",
        "for i in range(n):\n",
        "    graph.append(list(map(int, input())))"
      ]
    },
    {
      "cell_type": "code",
      "source": [
        "graph"
      ],
      "metadata": {
        "colab": {
          "base_uri": "https://localhost:8080/"
        },
        "id": "YJ-M9E7wK7tQ",
        "outputId": "02dc7b3f-c833-45f4-99f7-9d2a669ae4f3"
      },
      "execution_count": 33,
      "outputs": [
        {
          "output_type": "execute_result",
          "data": {
            "text/plain": [
              "[[1, 0, 1], [0, 1, 0], [1, 1, 1]]"
            ]
          },
          "metadata": {},
          "execution_count": 33
        }
      ]
    },
    {
      "cell_type": "code",
      "source": [
        "\n",
        "def icecream(x,y):\n",
        "    if x <= -1 or y <= -1 or x >= n or y >= m:\n",
        "        return False\n",
        "    if graph[x][y] == 0:\n",
        "        graph[x][y] = 1\n",
        "        # 재귀함수로 상하좌우도 함께 검색해서 지워줌\n",
        "        icecream(x-1, y)\n",
        "        icecream(x+1, y)\n",
        "        icecream(x, y-1)\n",
        "        icecream(x, y+1)\n",
        "        return True\n",
        "    return False\n",
        "\n",
        "result = 0\n",
        "for i in range(n):\n",
        "    for j in range(m):\n",
        "        if icecream(i, j) == True:\n",
        "            result += 1\n",
        "\n",
        "print(result)\n"
      ],
      "metadata": {
        "colab": {
          "base_uri": "https://localhost:8080/"
        },
        "id": "pMK4H1yOLCgw",
        "outputId": "a585c59f-51e7-467a-fb7f-373303f7e56a"
      },
      "execution_count": 34,
      "outputs": [
        {
          "output_type": "stream",
          "name": "stdout",
          "text": [
            "3\n"
          ]
        }
      ]
    },
    {
      "cell_type": "markdown",
      "source": [
        "미로탈출"
      ],
      "metadata": {
        "id": "W1DEJy_iRz62"
      }
    },
    {
      "cell_type": "code",
      "source": [
        "# 지도를 입력받는다\n",
        "\n",
        "n, m = map(int, input().split())\n",
        "\n",
        "graph = []\n",
        "for i in range(n):\n",
        "    graph.append(list(map(int,input())))\n"
      ],
      "metadata": {
        "colab": {
          "base_uri": "https://localhost:8080/"
        },
        "id": "eR_snSXiQwCM",
        "outputId": "f345f455-c27e-4470-cb7b-0fb1ad64dd06"
      },
      "execution_count": 19,
      "outputs": [
        {
          "name": "stdout",
          "output_type": "stream",
          "text": [
            "5 5\n",
            "10111\n",
            "10101\n",
            "10111\n",
            "11101\n",
            "00001\n"
          ]
        }
      ]
    },
    {
      "cell_type": "code",
      "source": [
        "graph"
      ],
      "metadata": {
        "colab": {
          "base_uri": "https://localhost:8080/"
        },
        "id": "ObS67YuHSLPx",
        "outputId": "255bb87b-f892-442d-e535-46f648d3e57d"
      },
      "execution_count": 20,
      "outputs": [
        {
          "output_type": "execute_result",
          "data": {
            "text/plain": [
              "[[1, 0, 1, 1, 1],\n",
              " [1, 0, 1, 0, 1],\n",
              " [1, 0, 1, 1, 1],\n",
              " [1, 1, 1, 0, 1],\n",
              " [0, 0, 0, 0, 1]]"
            ]
          },
          "metadata": {},
          "execution_count": 20
        }
      ]
    },
    {
      "cell_type": "code",
      "source": [
        "from collections import deque\n",
        "\n",
        "#동서남북\n",
        "dx = [0, 0, 1, -1]\n",
        "dy = [1, -1, 0, 0]\n",
        "\n",
        "#거리 기록을 위한 visited map\n",
        "visited = [[0] * m for i in range(n)]\n",
        "\n",
        "travel = deque()\n",
        "travel.append((0,0,1)) # 시작점 x좌표인덱스, y좌표인덱스, 거리\n",
        "\n",
        "while travel:\n",
        "    x, y, distance = travel.popleft()\n",
        "    if x == n-1 and y == m-1:\n",
        "        print(\"총거리:\",distance) #도착했을때 거리를 반환\n",
        "        break\n",
        "    for i in range(4):\n",
        "        nx = x + dx[i]\n",
        "        ny = y + dy[i]\n",
        "        if nx < 0 or ny < 0 or nx >= n or ny >= m:\n",
        "            continue # 맵밖으로 나간 경우 무시\n",
        "        if graph[nx][ny] == 0:\n",
        "            continue # 벽을 만난경우 무시\n",
        "        if graph[nx][ny] == 1 and not visited[nx][ny]:\n",
        "            travel.append((nx, ny, distance+1))\n",
        "            visited[nx][ny] = 1\n"
      ],
      "metadata": {
        "colab": {
          "base_uri": "https://localhost:8080/"
        },
        "id": "o4w4rAFQZ8hr",
        "outputId": "1bf4a012-0514-42a0-b54d-ee4423d2b0a1"
      },
      "execution_count": 25,
      "outputs": [
        {
          "output_type": "stream",
          "name": "stdout",
          "text": [
            "총거리: 11\n"
          ]
        }
      ]
    },
    {
      "cell_type": "code",
      "source": [
        "travel"
      ],
      "metadata": {
        "colab": {
          "base_uri": "https://localhost:8080/"
        },
        "id": "LSZTy1LcdqNo",
        "outputId": "87f3f8e5-13e3-445c-bbca-e62d242fc9ad"
      },
      "execution_count": 26,
      "outputs": [
        {
          "output_type": "execute_result",
          "data": {
            "text/plain": [
              "deque([(0, 4, 11)])"
            ]
          },
          "metadata": {},
          "execution_count": 26
        }
      ]
    },
    {
      "cell_type": "code",
      "source": [
        "visited"
      ],
      "metadata": {
        "colab": {
          "base_uri": "https://localhost:8080/"
        },
        "id": "sAOeOx4hdsk6",
        "outputId": "0a5b4da7-943b-462f-87d4-59a026741ad1"
      },
      "execution_count": 27,
      "outputs": [
        {
          "output_type": "execute_result",
          "data": {
            "text/plain": [
              "[[1, 0, 1, 1, 1],\n",
              " [1, 0, 1, 0, 1],\n",
              " [1, 0, 1, 1, 1],\n",
              " [1, 1, 1, 0, 1],\n",
              " [0, 0, 0, 0, 1]]"
            ]
          },
          "metadata": {},
          "execution_count": 27
        }
      ]
    },
    {
      "cell_type": "code",
      "source": [
        "distance"
      ],
      "metadata": {
        "colab": {
          "base_uri": "https://localhost:8080/"
        },
        "id": "W7evzL1_d1qD",
        "outputId": "03ce45bc-f53c-4ba4-b2ab-4be9590a1156"
      },
      "execution_count": 28,
      "outputs": [
        {
          "output_type": "execute_result",
          "data": {
            "text/plain": [
              "11"
            ]
          },
          "metadata": {},
          "execution_count": 28
        }
      ]
    },
    {
      "cell_type": "code",
      "source": [
        "from collections import deque\n",
        "\n",
        "def solution(maps):\n",
        "    n, m = len(maps), len(maps[0])\n",
        "    travel = deque()\n",
        "    travel.append((0,0,1)) #x좌표,y좌표,distance\n",
        "    # 이동방향 설정 동서남북\n",
        "    dx = [0, 0, 1, -1]\n",
        "    dy = [1, -1, 0, 0]\n",
        "    # 방문경로를 만든다 -> 만약 방문경로[n-1][m-1] == 0 이면 -1내고 종료\n",
        "    visited = [[0] * m for i in range(n)]\n",
        "    \n",
        "    while travel: #큐가 텅 빌때까지 실행\n",
        "        x, y, distance = travel.popleft()\n",
        "        if x == n-1 and y == m-1: #종점에 가면 종료\n",
        "            return distance\n",
        "\n",
        "        for i in range(4):\n",
        "            nx = x + dx[i]\n",
        "            ny = y + dy[i]\n",
        "            if nx < 0 or ny < 0 or nx >= n or ny >= m: #맵 밖을 나가면 무시\n",
        "                continue\n",
        "            if maps[nx][ny] == 0: #벽으로 가도 무시\n",
        "                continue\n",
        "            if maps[nx][ny] == 1 and not visited[nx][ny]:\n",
        "                travel.append((nx,ny,distance+1))\n",
        "                visited[nx][ny] = 1\n",
        "    return -1"
      ],
      "metadata": {
        "id": "4lz_o43qd1Z0"
      },
      "execution_count": 29,
      "outputs": []
    },
    {
      "cell_type": "code",
      "source": [
        "maps = [[1,0,1,1,1],[1,0,1,0,1],[1,0,1,1,1],[1,1,1,0,1],[0,0,0,0,1]]\n",
        "solution(maps)"
      ],
      "metadata": {
        "colab": {
          "base_uri": "https://localhost:8080/"
        },
        "id": "bMuLy0Oyd4BI",
        "outputId": "dfea4d92-dbe0-4156-f708-5587d9c39cb7"
      },
      "execution_count": 30,
      "outputs": [
        {
          "output_type": "execute_result",
          "data": {
            "text/plain": [
              "11"
            ]
          },
          "metadata": {},
          "execution_count": 30
        }
      ]
    },
    {
      "cell_type": "code",
      "source": [
        "maps = [[1,0,1,1,1],[1,0,1,0,1],[1,0,1,1,1],[1,1,1,0,0],[0,0,0,0,1]]\n",
        "solution(maps)"
      ],
      "metadata": {
        "colab": {
          "base_uri": "https://localhost:8080/"
        },
        "id": "2mLiq53Hd96O",
        "outputId": "470ee4f3-e641-4cbe-9aac-92207753504f"
      },
      "execution_count": 31,
      "outputs": [
        {
          "output_type": "execute_result",
          "data": {
            "text/plain": [
              "-1"
            ]
          },
          "metadata": {},
          "execution_count": 31
        }
      ]
    },
    {
      "cell_type": "markdown",
      "source": [
        "정렬 문제"
      ],
      "metadata": {
        "id": "Gv0hKR-1f2js"
      }
    },
    {
      "cell_type": "code",
      "source": [
        "n = int(input())\n",
        "num = []\n",
        "for i in range(n):\n",
        "    num.append(int(input()))\n",
        "\n",
        "num.sort(reverse = True)\n",
        "\n",
        "for i in num:\n",
        "    print(i, end=' ')\n"
      ],
      "metadata": {
        "colab": {
          "base_uri": "https://localhost:8080/"
        },
        "id": "mdUtuki-eDT7",
        "outputId": "01cb0d17-40ce-41d0-ff05-b47232c892cd"
      },
      "execution_count": 36,
      "outputs": [
        {
          "output_type": "stream",
          "name": "stdout",
          "text": [
            "5\n",
            "1\n",
            "3\n",
            "9\n",
            "10\n",
            "11\n",
            "11 10 9 3 1 "
          ]
        }
      ]
    },
    {
      "cell_type": "code",
      "source": [
        "n = int(input())\n",
        "student = dict()\n",
        "\n",
        "for i in range(n):\n",
        "    key, value = input().split()\n",
        "    student[key] = int(value)\n",
        "    \n",
        "student = dict(sorted(student.items(), key = lambda x:x[1]))\n",
        "\n",
        "for name in student.keys():\n",
        "    print(name, end=' ')"
      ],
      "metadata": {
        "colab": {
          "base_uri": "https://localhost:8080/"
        },
        "id": "VmV9hjiAgTFN",
        "outputId": "85c0c3b6-c576-4c17-f92b-e0519a29f86d"
      },
      "execution_count": 66,
      "outputs": [
        {
          "output_type": "stream",
          "name": "stdout",
          "text": [
            "3\n",
            "김 100\n",
            "이 80\n",
            "박 70\n",
            "박 이 김 "
          ]
        }
      ]
    },
    {
      "cell_type": "markdown",
      "source": [
        "student = dict(sorted(student.items(), key = student.values())) 이건 왜 오류가 뜰까?\n",
        "\n",
        "student.values()는 키가 아닌 사전의 값을 포함하는 뷰 객체를 반환합니다. 따라서 정렬에 key=my_dict.values()를 사용하면 의도한 대로 작동하지 않습니다.\n",
        "\n",
        "\n",
        "대신 사전에서 항목(키-값 쌍)을 가져와 정렬에 사용할 값을 반환하는 함수로 키 인수를 지정해야 합니다. 예를 들어 key=lambda x: x[1]을 사용하여 사전을 값별로 정렬할 수 있습니다. 여기서 x[1]은 튜플 x(키-값 쌍)의 두 번째 요소(값)를 의미합니다."
      ],
      "metadata": {
        "id": "23IViufKq1H3"
      }
    },
    {
      "cell_type": "markdown",
      "source": [
        "두 배열의 원소 교체\n",
        "\n",
        "n = n개의 원소\n",
        "\n",
        "k = k번 원소교체 가능"
      ],
      "metadata": {
        "id": "HH-NynirrNF8"
      }
    },
    {
      "cell_type": "code",
      "source": [
        "n, k = map(int, input().split())\n",
        "A = list(map(int, input().split()))\n",
        "B = list(map(int, input().split()))\n",
        "\n",
        "A.sort()\n",
        "B.sort(reverse = True)\n",
        "\n",
        "for i in range(k):\n",
        "    if A[i] < B[i]:\n",
        "        A[i] = B[i]\n",
        "\n",
        "sum(A)"
      ],
      "metadata": {
        "colab": {
          "base_uri": "https://localhost:8080/"
        },
        "id": "AnpfvETkqTSM",
        "outputId": "4645920e-5b2a-425b-c87e-6e9cfd8ce6d1"
      },
      "execution_count": 79,
      "outputs": [
        {
          "name": "stdout",
          "output_type": "stream",
          "text": [
            "5 3\n",
            "1 1 5 5 3\n",
            "3 2 3 5 5\n"
          ]
        },
        {
          "output_type": "execute_result",
          "data": {
            "text/plain": [
              "23"
            ]
          },
          "metadata": {},
          "execution_count": 79
        }
      ]
    },
    {
      "cell_type": "markdown",
      "source": [
        "이진 탐색 코드"
      ],
      "metadata": {
        "id": "ULipUyE0uMTx"
      }
    },
    {
      "cell_type": "code",
      "source": [
        "def binary(array, target):\n",
        "    array.sort()\n",
        "    start = array[0] # 애초에 이건 인덱스가 아니라 값이자나\n",
        "    end = array[-1]\n",
        "    mid = (start + end) // 2\n",
        "\n",
        "    if target == array[mid]:\n",
        "        return mid\n",
        "    elif target > array[mid]:\n",
        "        new_array = array[mid+1:]\n",
        "        binary(new_array, target)\n",
        "    elif target < array[mid]:\n",
        "        new_array = array[:mid-1]\n",
        "        binary(new_array, target)\n"
      ],
      "metadata": {
        "id": "mOS9eAmFuBag"
      },
      "execution_count": 85,
      "outputs": []
    },
    {
      "cell_type": "code",
      "source": [
        "A = [1, 3, 18, 19, 10, 13, 20]\n",
        "T = 17"
      ],
      "metadata": {
        "id": "yWVJZKFiwkq6"
      },
      "execution_count": 138,
      "outputs": []
    },
    {
      "cell_type": "code",
      "source": [
        "binary(A, T)"
      ],
      "metadata": {
        "colab": {
          "base_uri": "https://localhost:8080/",
          "height": 298
        },
        "id": "OkGcV_b_wvSn",
        "outputId": "fc9aee8a-6c88-41fd-dfb5-e9932cff80f6"
      },
      "execution_count": 87,
      "outputs": [
        {
          "output_type": "error",
          "ename": "IndexError",
          "evalue": "ignored",
          "traceback": [
            "\u001b[0;31m---------------------------------------------------------------------------\u001b[0m",
            "\u001b[0;31mIndexError\u001b[0m                                Traceback (most recent call last)",
            "\u001b[0;32m<ipython-input-87-1b226c5bbf4f>\u001b[0m in \u001b[0;36m<cell line: 1>\u001b[0;34m()\u001b[0m\n\u001b[0;32m----> 1\u001b[0;31m \u001b[0mbinary\u001b[0m\u001b[0;34m(\u001b[0m\u001b[0mA\u001b[0m\u001b[0;34m,\u001b[0m \u001b[0mT\u001b[0m\u001b[0;34m)\u001b[0m\u001b[0;34m\u001b[0m\u001b[0;34m\u001b[0m\u001b[0m\n\u001b[0m",
            "\u001b[0;32m<ipython-input-85-0acaefd7ff09>\u001b[0m in \u001b[0;36mbinary\u001b[0;34m(array, target)\u001b[0m\n\u001b[1;32m      5\u001b[0m     \u001b[0mmid\u001b[0m \u001b[0;34m=\u001b[0m \u001b[0;34m(\u001b[0m\u001b[0mstart\u001b[0m \u001b[0;34m+\u001b[0m \u001b[0mend\u001b[0m\u001b[0;34m)\u001b[0m \u001b[0;34m//\u001b[0m \u001b[0;36m2\u001b[0m\u001b[0;34m\u001b[0m\u001b[0;34m\u001b[0m\u001b[0m\n\u001b[1;32m      6\u001b[0m \u001b[0;34m\u001b[0m\u001b[0m\n\u001b[0;32m----> 7\u001b[0;31m     \u001b[0;32mif\u001b[0m \u001b[0mtarget\u001b[0m \u001b[0;34m==\u001b[0m \u001b[0marray\u001b[0m\u001b[0;34m[\u001b[0m\u001b[0mmid\u001b[0m\u001b[0;34m]\u001b[0m\u001b[0;34m:\u001b[0m\u001b[0;34m\u001b[0m\u001b[0;34m\u001b[0m\u001b[0m\n\u001b[0m\u001b[1;32m      8\u001b[0m         \u001b[0;32mreturn\u001b[0m \u001b[0mmid\u001b[0m\u001b[0;34m\u001b[0m\u001b[0;34m\u001b[0m\u001b[0m\n\u001b[1;32m      9\u001b[0m     \u001b[0;32melif\u001b[0m \u001b[0mtarget\u001b[0m \u001b[0;34m>\u001b[0m \u001b[0marray\u001b[0m\u001b[0;34m[\u001b[0m\u001b[0mmid\u001b[0m\u001b[0;34m]\u001b[0m\u001b[0;34m:\u001b[0m\u001b[0;34m\u001b[0m\u001b[0;34m\u001b[0m\u001b[0m\n",
            "\u001b[0;31mIndexError\u001b[0m: list index out of range"
          ]
        }
      ]
    },
    {
      "cell_type": "markdown",
      "source": [
        "리스트를 슬라이싱하는건 계산복잡도를 증가시킬뿐 아니라 함수내에서 변수를 변화시키므로 좋은 코드가 아니다.\n",
        "\n",
        "차라리 리스트를 수정하는것이 좋다."
      ],
      "metadata": {
        "id": "W40qSwlkx3w1"
      }
    },
    {
      "cell_type": "code",
      "source": [
        "def binary_search(array, target, start, end):\n",
        "    if start > end:\n",
        "        return print(\"찾는 값이 없습니다\")\n",
        "        \n",
        "    array.sort()\n",
        "    mid = (start + end) // 2\n",
        "\n",
        "    if array[mid] == target:\n",
        "        return print(f\"찾는 값:{target} 찾는 값의 인덱스:{mid}\")\n",
        "    elif array[mid] > target:\n",
        "        return binary_search(array, target, start, mid-1)\n",
        "    elif array[mid] < target:\n",
        "        return binary_search(array, target, mid+1, end)"
      ],
      "metadata": {
        "id": "TZQP0vwbwzn1"
      },
      "execution_count": 106,
      "outputs": []
    },
    {
      "cell_type": "code",
      "source": [
        "binary_search(A, T, 0, len(A)-1)"
      ],
      "metadata": {
        "colab": {
          "base_uri": "https://localhost:8080/"
        },
        "id": "jkJ2ywXhySD_",
        "outputId": "bbc5492a-0dc2-4df2-dca3-924560be11a9"
      },
      "execution_count": 130,
      "outputs": [
        {
          "output_type": "stream",
          "name": "stdout",
          "text": [
            "찾는 값:1 찾는 값의 인덱스:0\n"
          ]
        }
      ]
    },
    {
      "cell_type": "code",
      "source": [
        "def binary_search_2(array, target):\n",
        "    array.sort()\n",
        "    start = 0\n",
        "    end = len(array)-1\n",
        "\n",
        "    while start <= end:\n",
        "        mid = (start + end)//2\n",
        "        if array[mid] == target:\n",
        "            return print(f\"찾는 값:{target} 찾는 값의 인덱스:{mid}\")\n",
        "        elif array[mid] < target:\n",
        "            start = mid + 1\n",
        "        elif array[mid] > target:\n",
        "            end = mid - 1\n",
        "    return print(\"찾는 값이 없습니다\")\n",
        "   "
      ],
      "metadata": {
        "id": "Ksge1Eaa1dR6"
      },
      "execution_count": 140,
      "outputs": []
    },
    {
      "cell_type": "code",
      "source": [
        "binary_search_2(A, T)"
      ],
      "metadata": {
        "colab": {
          "base_uri": "https://localhost:8080/"
        },
        "id": "qI_OsFAp29XA",
        "outputId": "d26ff496-78c8-4bc9-be0f-f4dc55916caf"
      },
      "execution_count": 141,
      "outputs": [
        {
          "output_type": "stream",
          "name": "stdout",
          "text": [
            "찾는 값이 없습니다\n"
          ]
        }
      ]
    },
    {
      "cell_type": "markdown",
      "source": [
        "부품찾기\n",
        "\n",
        "가계에 있는 N개의 부품들\n",
        "\n",
        "N = 5\n",
        "\n",
        "[8 3 7 9 2]\n",
        "\n",
        "손님이 찾는 M개의 부품들\n",
        "\n",
        "M = 3\n",
        "\n",
        "[5 7 3]"
      ],
      "metadata": {
        "id": "XBg5Ez4C59sO"
      }
    },
    {
      "cell_type": "code",
      "source": [
        "n = int(input())\n",
        "store = list(map(int, input().split()))\n",
        "\n",
        "m = int(input())\n",
        "find = list(map(int, input().split()))"
      ],
      "metadata": {
        "colab": {
          "base_uri": "https://localhost:8080/"
        },
        "id": "jXrz7SOo3A6y",
        "outputId": "d34b58dd-aecc-4d81-fb70-90e55fea8363"
      },
      "execution_count": 142,
      "outputs": [
        {
          "name": "stdout",
          "output_type": "stream",
          "text": [
            "5\n",
            "8 3 7 9 2\n",
            "3\n",
            "5 7 3\n"
          ]
        }
      ]
    },
    {
      "cell_type": "code",
      "source": [
        "def binary(array, target):\n",
        "    array.sort()\n",
        "    start = 0\n",
        "    end = len(array)+1\n",
        "\n",
        "    while start <= end:\n",
        "        mid = (start + end)//2\n",
        "        if array[mid] == target:\n",
        "            return mid\n",
        "        elif array[mid] > target:\n",
        "            end = mid - 1\n",
        "        elif array[mid] < target:\n",
        "            start = mid +  1\n",
        "    return None\n"
      ],
      "metadata": {
        "id": "Moyo-Rc66nhR"
      },
      "execution_count": 143,
      "outputs": []
    },
    {
      "cell_type": "code",
      "source": [
        "ans = []\n",
        "\n",
        "for item in find:\n",
        "    ans.append(binary(store,item))"
      ],
      "metadata": {
        "id": "Eyv_VaY27tIg"
      },
      "execution_count": 146,
      "outputs": []
    },
    {
      "cell_type": "code",
      "source": [
        "ans"
      ],
      "metadata": {
        "colab": {
          "base_uri": "https://localhost:8080/"
        },
        "id": "um_luMNz8fq6",
        "outputId": "3bfa4efe-2a65-4695-81e2-49cbdd560228"
      },
      "execution_count": 147,
      "outputs": [
        {
          "output_type": "execute_result",
          "data": {
            "text/plain": [
              "[None, 2, 1]"
            ]
          },
          "metadata": {},
          "execution_count": 147
        }
      ]
    },
    {
      "cell_type": "code",
      "source": [
        "for i in ans:\n",
        "    if i != None:\n",
        "        print(\"yes\", end=' ')\n",
        "    else:\n",
        "        print(\"no\", end=' ')\n"
      ],
      "metadata": {
        "colab": {
          "base_uri": "https://localhost:8080/"
        },
        "id": "JEkzg_W-8gPZ",
        "outputId": "66149cb5-ac17-4899-b832-69bab3cce912"
      },
      "execution_count": 150,
      "outputs": [
        {
          "output_type": "stream",
          "name": "stdout",
          "text": [
            "no yes yes "
          ]
        }
      ]
    },
    {
      "cell_type": "markdown",
      "source": [
        "떡볶이 떡 만들기\n",
        "\n",
        "떡의 갯수 N\n",
        "\n",
        "요청한 떡의 길이 M\n",
        "\n",
        "떡의 개별 높이 집합\n",
        "\n",
        "요청한 떡의 길이를 맞추는 최대의 높이 출력"
      ],
      "metadata": {
        "id": "lXMa71JCBc6o"
      }
    },
    {
      "cell_type": "code",
      "source": [
        "N = 4\n",
        "M = 6\n",
        "TUK = [19, 15, 10, 17]\n",
        "\n",
        "start = 0\n",
        "end = max(TUK)\n",
        "\n",
        "result = 0\n",
        "\n",
        "while start <= end:\n",
        "    mid = (start + end)//2\n",
        "    offer = 0\n",
        "\n",
        "    #떡의 양 계산, mid 보다 큰 떡만 잘린다\n",
        "    for item in TUK:\n",
        "        if item > mid:\n",
        "            offer += item - mid\n",
        "            \n",
        "    #떡이 부족한 경우\n",
        "    if offer < m:\n",
        "        end = mid-1\n",
        "    else:\n",
        "        result = mid\n",
        "        start = mid + 1\n",
        "\n",
        "    \n",
        "print(result)\n"
      ],
      "metadata": {
        "colab": {
          "base_uri": "https://localhost:8080/"
        },
        "id": "Dh5BoIkU82dN",
        "outputId": "e660aa34-d79c-4360-85e7-49ac2d3a5bf5"
      },
      "execution_count": 176,
      "outputs": [
        {
          "output_type": "stream",
          "name": "stdout",
          "text": [
            "16\n"
          ]
        }
      ]
    },
    {
      "cell_type": "markdown",
      "source": [
        "다이나믹프로그래밍\n",
        "\n",
        "1로 만들기\n",
        "\n",
        "X = 26\n",
        "\n",
        "연산해서 1로 만들어지는 최소 반복횟수\n"
      ],
      "metadata": {
        "id": "GokxDwmSU_gu"
      }
    },
    {
      "cell_type": "code",
      "source": [
        "X = int(input())\n",
        "count = 0\n",
        "while X != 1:\n",
        "    if X % 5 == 0:\n",
        "        count += 1\n",
        "        X =  X // 5\n",
        "    if X % 5 == 1:\n",
        "        count += 1\n",
        "        X -= 1\n",
        "    if X % 3 == 0:\n",
        "        count += 1\n",
        "        X = X // 3\n",
        "    if X % 3 == 1:\n",
        "        count += 1\n",
        "        X -= 1\n",
        "    if X % 2 == 0:\n",
        "        count += 1\n",
        "        X = X // 2\n",
        "print(count)"
      ],
      "metadata": {
        "colab": {
          "base_uri": "https://localhost:8080/",
          "height": 243
        },
        "id": "_ENbLZ8gFRPv",
        "outputId": "b0c26650-fc38-40b4-941d-154ba479a02c"
      },
      "execution_count": 186,
      "outputs": [
        {
          "output_type": "error",
          "ename": "KeyboardInterrupt",
          "evalue": "ignored",
          "traceback": [
            "\u001b[0;31m---------------------------------------------------------------------------\u001b[0m",
            "\u001b[0;31mKeyboardInterrupt\u001b[0m                         Traceback (most recent call last)",
            "\u001b[0;32m<ipython-input-186-ba4fa933292e>\u001b[0m in \u001b[0;36m<cell line: 3>\u001b[0;34m()\u001b[0m\n\u001b[1;32m      5\u001b[0m         \u001b[0mcount\u001b[0m \u001b[0;34m+=\u001b[0m \u001b[0;36m1\u001b[0m\u001b[0;34m\u001b[0m\u001b[0;34m\u001b[0m\u001b[0m\n\u001b[1;32m      6\u001b[0m         \u001b[0mX\u001b[0m \u001b[0;34m=\u001b[0m  \u001b[0mX\u001b[0m \u001b[0;34m//\u001b[0m \u001b[0;36m5\u001b[0m\u001b[0;34m\u001b[0m\u001b[0;34m\u001b[0m\u001b[0m\n\u001b[0;32m----> 7\u001b[0;31m     \u001b[0;32mif\u001b[0m \u001b[0mX\u001b[0m \u001b[0;34m%\u001b[0m \u001b[0;36m5\u001b[0m \u001b[0;34m==\u001b[0m \u001b[0;36m1\u001b[0m\u001b[0;34m:\u001b[0m\u001b[0;34m\u001b[0m\u001b[0;34m\u001b[0m\u001b[0m\n\u001b[0m\u001b[1;32m      8\u001b[0m         \u001b[0mcount\u001b[0m \u001b[0;34m+=\u001b[0m \u001b[0;36m1\u001b[0m\u001b[0;34m\u001b[0m\u001b[0;34m\u001b[0m\u001b[0m\n\u001b[1;32m      9\u001b[0m         \u001b[0mX\u001b[0m \u001b[0;34m-=\u001b[0m \u001b[0;36m1\u001b[0m\u001b[0;34m\u001b[0m\u001b[0;34m\u001b[0m\u001b[0m\n",
            "\u001b[0;31mKeyboardInterrupt\u001b[0m: "
          ]
        }
      ]
    },
    {
      "cell_type": "code",
      "source": [
        "X = 29999\n",
        "count = 0\n",
        "\n",
        "while X > 1:\n",
        "    if X % 5 == 0:\n",
        "        X //= 5\n",
        "        count += 1\n",
        "    elif X % 3 == 0:\n",
        "        X //= 3\n",
        "        count += 1\n",
        "    elif X % 2 == 0:\n",
        "        X //= 2\n",
        "        count += 1\n",
        "    else:\n",
        "        X -= 1\n",
        "        count += 1\n",
        "\n",
        "print(count)"
      ],
      "metadata": {
        "colab": {
          "base_uri": "https://localhost:8080/"
        },
        "id": "MrAVI2b9XV1D",
        "outputId": "46141e9f-66ff-47f6-eac7-20a0e82ccb59"
      },
      "execution_count": 189,
      "outputs": [
        {
          "output_type": "stream",
          "name": "stdout",
          "text": [
            "19\n"
          ]
        }
      ]
    },
    {
      "cell_type": "code",
      "source": [],
      "metadata": {
        "id": "6Of8GXUFbgJC"
      },
      "execution_count": null,
      "outputs": []
    }
  ]
}