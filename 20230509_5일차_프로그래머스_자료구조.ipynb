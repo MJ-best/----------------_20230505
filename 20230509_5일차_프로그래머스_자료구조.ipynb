{
 "cells": [
  {
   "attachments": {},
   "cell_type": "markdown",
   "metadata": {},
   "source": [
    "### 같은 숫자는 싫어\n",
    "**문제설명**\n",
    "\n",
    "배열 arr가 주어집니다. 배열 arr의 각 원소는 숫자 0부터 9까지로 이루어져 있습니다. 이때, 배열 arr에서 연속적으로 나타나는 숫자는 하나만 남기고 전부 제거하려고 합니다. 단, 제거된 후 남은 수들을 반환할 때는 배열 arr의 원소들의 순서를 유지해야 합니다. 예를 들면,\n",
    "\n",
    "arr = [1, 1, 3, 3, 0, 1, 1] 이면 [1, 3, 0, 1] 을 return 합니다.\n",
    "\n",
    "arr = [4, 4, 4, 3, 3] 이면 [4, 3] 을 return 합니다.\n",
    "\n",
    "배열 arr에서 연속적으로 나타나는 숫자는 제거하고 남은 수들을 return 하는 solution 함수를 완성해 주세요.\n",
    "\n",
    "**제한사항**\n",
    "\n",
    "배열 arr의 크기 : 1,000,000 이하의 자연수\n",
    "\n",
    "배열 arr의 원소의 크기 : 0보다 크거나 같고 9보다 작거나 같은 정수\n",
    "\n",
    "---\n",
    "\n",
    "1. 처음 숫자는 무조건 포함 시킨다\n",
    "2. 주어진 arr를 인덱싱하여 i번째 숫자와 i-1번째 숫자를 비교해서 다른 숫자인 경우에만 ans에 원소를 추가한다"
   ]
  },
  {
   "cell_type": "code",
   "execution_count": 9,
   "metadata": {},
   "outputs": [
    {
     "name": "stdout",
     "output_type": "stream",
     "text": [
      "[4, 3]\n"
     ]
    }
   ],
   "source": [
    "arr = [4,4,4,3,3]\n",
    "\n",
    "ans = [arr[0]]\n",
    "\n",
    "for i in range(1,len(arr)):\n",
    "    if arr[i] != arr[i-1]:\n",
    "        ans.append(arr[i])\n",
    "        \n",
    "print(ans)"
   ]
  },
  {
   "attachments": {},
   "cell_type": "markdown",
   "metadata": {},
   "source": [
    "### 올바른 괄호\n",
    "\n",
    "**문제 설명**\n",
    "\n",
    "괄호가 바르게 짝지어졌다는 것은 '(' 문자로 열렸으면 반드시 짝지어서 ')' 문자로 닫혀야 한다는 뜻입니다. 예를 들어\n",
    "\"()()\" 또는 \"(())()\" 는 올바른 괄호입니다.\n",
    "\")()(\" 또는 \"(()(\" 는 올바르지 않은 괄호입니다.\n",
    "'(' 또는 ')' 로만 이루어진 문자열 s가 주어졌을 때, 문자열 s가 올바른 괄호이면 true를 return 하고, 올바르지 않은 괄호이면 false를 return 하는 solution 함수를 완성해 주세요.\n",
    "\n",
    "**제한사항**\n",
    "\n",
    "문자열 s의 길이 : 100,000 이하의 자연수\n",
    "문자열 s는 '(' 또는 ')' 로만 이루어져 있습니다."
   ]
  },
  {
   "cell_type": "code",
   "execution_count": 33,
   "metadata": {},
   "outputs": [
    {
     "name": "stdout",
     "output_type": "stream",
     "text": [
      "1 ['(']\n",
      "2 ['(', '(']\n",
      "3 ['(']\n",
      "4 []\n",
      "True\n"
     ]
    }
   ],
   "source": [
    "s = \"(())\"\n",
    "stack = []\n",
    "iter = 0\n",
    "\n",
    "for i in range(len(s)):\n",
    "    iter += 1\n",
    "    if s[0] != \"(\":\n",
    "        print(\"False\")\n",
    "        break\n",
    "    if s[i] == \"(\":\n",
    "        stack.append(s[i])\n",
    "        print(iter, stack)\n",
    "    elif s[i] == \")\":\n",
    "        stack.pop()\n",
    "        print(iter, stack)\n",
    "    \n",
    "if stack == []:\n",
    "    print(\"True\")\n",
    "else:\n",
    "    print(\"False\")"
   ]
  },
  {
   "attachments": {},
   "cell_type": "markdown",
   "metadata": {},
   "source": [
    "몇개의 케이스에서 런타임 에러가 났다.\n",
    "왜지..?\n",
    "\n",
    "\n",
    "우선 첫 번째 문자가 '('인지 검사하는 부분이 반복문 안에 있어서, 문자열이 '('로 시작하지 않는 경우에도 불필요한 연산을 수행합니다. 따라서 반복문 이전에 첫 번째 문자가 '('인지 검사하는 것이 더 적합합니다.\n",
    "\n",
    "또한, 괄호 쌍이 올바른지 검사하기 위해서는 스택을 이용해야 합니다. 현재 코드에서는 스택에 '(' 문자만 저장하고 ')' 문자를 만나면 스택에서 pop하는 방식으로 검사하고 있습니다. 이 방식은 중첩된 괄호 쌍을 처리하는 데에는 적합하지 않습니다.\n",
    "\n",
    "따라서, '(' 문자를 스택에 push하고 ')' 문자를 만나면 스택에서 pop하여 짝이 맞는지 검사해야 합니다. 이때, 스택이 비어있는 경우 ')' 문자가 먼저 나타난 경우로 괄호 쌍이 올바르지 않으므로 False를 반환해야 합니다.\n",
    "\n",
    "\n",
    "**chatGPT의 풀이**\n",
    "\n",
    "스택(stack) 자료구조를 활용하여 문제를 해결할 수 있습니다. 입력값에서 괄호를 하나씩 추출하여 스택에 push합니다. 만약 추출한 괄호가 닫힌 괄호라면 스택에서 pop하여 짝이 맞는지 검사합니다. 이 과정을 모든 괄호를 순회하며 반복합니다. 모든 괄호를 검사한 후, 스택이 비어있다면 올바른 괄호이므로 True를 반환합니다. 스택에 여전히 원소가 남아있다면 올바르지 않은 괄호이므로 False를 반환합니다."
   ]
  },
  {
   "cell_type": "code",
   "execution_count": 34,
   "metadata": {},
   "outputs": [],
   "source": [
    "#chatGPT\n",
    "\n",
    "def solution(s):\n",
    "    stack = []\n",
    "    \n",
    "    for c in s:\n",
    "        if c == '(':\n",
    "            stack.append(c)\n",
    "        else: # 닫힌 괄호인 경우\n",
    "            if not stack: # 스택이 비어있는 경우\n",
    "                return False\n",
    "            else:\n",
    "                stack.pop()\n",
    "    \n",
    "    return not stack # 스택이 비어있다면 True, 아니면 False 반환\n"
   ]
  },
  {
   "cell_type": "code",
   "execution_count": 48,
   "metadata": {},
   "outputs": [
    {
     "name": "stdout",
     "output_type": "stream",
     "text": [
      "1 ['(']\n",
      "2 ['(', '(']\n",
      "3 ['(']\n",
      "4 ['(', '(']\n",
      "5 ['(']\n",
      "6 []\n"
     ]
    },
    {
     "data": {
      "text/plain": [
       "True"
      ]
     },
     "execution_count": 48,
     "metadata": {},
     "output_type": "execute_result"
    }
   ],
   "source": [
    "s = \"(()())\"\n",
    "\n",
    "stack = []\n",
    "iter = 0\n",
    "\n",
    "for i in s:\n",
    "    iter += 1\n",
    "    if i == \"(\":\n",
    "        stack.append(i)\n",
    "        print(iter, stack)\n",
    "    else:\n",
    "        if not stack:\n",
    "            print(iter, stack)\n",
    "            print(\"False\")\n",
    "            break\n",
    "        else:\n",
    "            stack.pop()\n",
    "            print(iter, stack)\n",
    "\n",
    "stack == []"
   ]
  },
  {
   "attachments": {},
   "cell_type": "markdown",
   "metadata": {},
   "source": [
    "### 기능개발\n",
    "**문제설명**\n",
    "\n",
    "프로그래머스 팀에서는 기능 개선 작업을 수행 중입니다. 각 기능은 진도가 100%일 때 서비스에 반영할 수 있습니다.\n",
    "또, 각 기능의 개발속도는 모두 다르기 때문에 뒤에 있는 기능이 앞에 있는 기능보다 먼저 개발될 수 있고, 이때 뒤에 있는 기능은 앞에 있는 기능이 배포될 때 함께 배포됩니다.\n",
    "\n",
    "먼저 배포되어야 하는 순서대로 작업의 진도가 적힌 정수 배열 progresses와 각 작업의 개발 속도가 적힌 정수 배열 speeds가 주어질 때 각 배포마다 몇 개의 기능이 배포되는지를 return 하도록 solution 함수를 완성하세요.\n",
    "\n",
    "**제한 사항**\n",
    "\n",
    "작업의 개수(progresses, speeds배열의 길이)는 100개 이하입니다.\n",
    "\n",
    "작업 진도는 100 미만의 자연수입니다.\n",
    "\n",
    "작업 속도는 100 이하의 자연수입니다.\n",
    "\n",
    "배포는 하루에 한 번만 할 수 있으며, 하루의 끝에 이루어진다고 가정합니다. 예를 들어 진도율이 95%인 작업의 개발 속도가 하루에 4%라면 배포는 2일 뒤에 이루어집니다.\n",
    "\n",
    "---\n",
    "\n",
    "문제가 이해가 안된다..\n",
    "\n",
    "이 문제는 큐(queue)를 사용하여 해결할 수 있습니다. 각 기능마다 개발이 완료되는데 걸리는 일 수(progresses)를 큐에 넣고, 배포 시점에서 함께 배포될 수 있는 기능들의 개수(speeds)를 큐에 넣습니다. 그리고 큐에서 하나씩 기능을 꺼내서 배포 시점까지 걸리는 일 수를 계산합니다.\n",
    "\n",
    "먼저, 처음에는 큐에서 하나의 기능을 꺼내서 배포 시점까지 걸리는 일 수를 계산합니다. 그리고 다음 기능부터는 이전에 계산한 배포 시점보다 더 오래 걸리는지 확인하여, 더 오래 걸리면 이전 배포 시점에 함께 배포되던 기능들까지 함께 배포될 수 있도록 배포할 기능들의 개수를 카운트합니다. 그리고 배포할 기능들의 개수를 결과 리스트에 추가하고, 다시 큐에서 기능을 꺼내서 배포 시점까지 걸리는 일 수를 계산합니다.\n",
    "\n",
    "--- \n",
    "\n",
    "먼저 개발한 기능이 먼저 배포되어야 한다\n",
    "\n",
    "선입선출이 되야하므로 큐를 사용한다"
   ]
  },
  {
   "cell_type": "code",
   "execution_count": 59,
   "metadata": {},
   "outputs": [
    {
     "data": {
      "text/plain": [
       "0"
      ]
     },
     "execution_count": 59,
     "metadata": {},
     "output_type": "execute_result"
    }
   ],
   "source": [
    "progress = [93, 30, 55]\n",
    "speed = [1, 30, 5]\n",
    "\n",
    "from collections import deque\n",
    "\n",
    "dq = deque()\n",
    "\n",
    "dq.append(progress[0])\n",
    "dq.append(progress[1])\n",
    "dq.append(progress[2])\n",
    "\n",
    "day = 0\n",
    "count = 0 \n",
    "\n",
    "day += (100 - progress[0])//speed[0]\n",
    "count += 1 #첫번째 작업 끝\n",
    "dq.pop()\n",
    "\n",
    "if dq:\n",
    "\n",
    "\n",
    "if day * speed[1] >= (100-progress[1]):\n",
    "    count += 1\n",
    "    dq.pop()\n"
   ]
  },
  {
   "attachments": {},
   "cell_type": "markdown",
   "metadata": {},
   "source": [
    "어려운 부분은.. 끝난 작업이 한번에 들어가야하는점인데 이걸 어떻게 구현할지 chatGPT한테 물어봄\n",
    " \n",
    "progresses를 큐로 만들고, 큐에서 완료된 작업을 빼낸다. 다만 이때 count를 초기화를 해야하는데 작업이 100이상인 경우에 count를 초기화한다.\n",
    "\n",
    "그리고 필요한 작업일수를 한번에 계산해놓는다. (시간을 아끼기 위해)"
   ]
  },
  {
   "cell_type": "code",
   "execution_count": 76,
   "metadata": {},
   "outputs": [],
   "source": [
    "from collections import deque\n",
    "\n",
    "def solution(progresses, speeds):\n",
    "    dq = deque(progresses)\n",
    "    answer = []\n",
    "\n",
    "    while dq:\n",
    "        # 첫 번째 작업이 100% 이상이면 count 초기화 \n",
    "        if dq[0] >= 100:\n",
    "            count = 0\n",
    "\n",
    "        # 각 작업에 필요한 일수 계산\n",
    "        days = []\n",
    "        for work, speed in zip(dq, speeds):\n",
    "            work_day = (100 - work) // speed + (100 - work % speed > 0) #나누어떨어지지 않고 0.3일씩 남는다면 그냥 1을 더한다\n",
    "            days.append(work_day)\n",
    "        # 첫 번째 작업이 완료되는 날짜(day) 계산\n",
    "        day = days[0]\n",
    "\n",
    "        # 첫 번째 작업보다 먼저 완료되는 작업(count) 계산\n",
    "        count = sum([1 for d in days if d <= day])\n",
    "\n",
    "        # 완료된 작업 스택에서 제거\n",
    "        for i in range(count):\n",
    "            dq.popleft()\n",
    "\n",
    "        # 완료된 작업 수를 결과 리스트에 추가\n",
    "        answer.append(count)\n",
    "\n",
    "    return answer\n"
   ]
  },
  {
   "attachments": {},
   "cell_type": "markdown",
   "metadata": {},
   "source": [
    "하지만 위의 코드도... 어떤 반례를 예측하지 못한다..\n",
    "\n",
    "그냥 chatGPT가 만들어준 답을 한번 이해해보자\n",
    "\n",
    "굳이 deque를 사용하지 않고, 그냥 pop(0)으로 선입선출을 구현해버렸다. pop(0)이나 popleft()나 결과는 갇다"
   ]
  },
  {
   "cell_type": "code",
   "execution_count": null,
   "metadata": {},
   "outputs": [],
   "source": [
    "def solution(progresses, speeds):\n",
    "    answer = []\n",
    "    days = 0\n",
    "    count = 0\n",
    "    while len(progresses) > 0:\n",
    "        if progresses[0] + (days * speeds[0]) >= 100:\n",
    "            progresses.pop(0)\n",
    "            speeds.pop(0)\n",
    "            count += 1\n",
    "        else:\n",
    "            if count > 0:\n",
    "                answer.append(count)\n",
    "                count = 0\n",
    "            days += 1\n",
    "    answer.append(count)\n",
    "    return answer"
   ]
  },
  {
   "cell_type": "code",
   "execution_count": null,
   "metadata": {},
   "outputs": [],
   "source": []
  }
 ],
 "metadata": {
  "kernelspec": {
   "display_name": "ML",
   "language": "python",
   "name": "python3"
  },
  "language_info": {
   "codemirror_mode": {
    "name": "ipython",
    "version": 3
   },
   "file_extension": ".py",
   "mimetype": "text/x-python",
   "name": "python",
   "nbconvert_exporter": "python",
   "pygments_lexer": "ipython3",
   "version": "3.8.16"
  },
  "orig_nbformat": 4
 },
 "nbformat": 4,
 "nbformat_minor": 2
}
