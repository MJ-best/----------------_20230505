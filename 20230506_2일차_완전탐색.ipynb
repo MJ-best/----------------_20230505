{
 "cells": [
  {
   "attachments": {},
   "cell_type": "markdown",
   "metadata": {},
   "source": [
    "완전탐색\n",
    "\n",
    "장점 : 반드시 답을 찾을 수 있다, 전부 살펴봤는데도 답이 없다? 답이 존재하지 않는다는 사실을 알아냄\n",
    "\n",
    "단점 : 오래걸린다. 리소스를 많이 잡아먹는다\n",
    "\n",
    "---\n",
    "\n",
    "브루트 포스 Brute-force 무차별 대입\n",
    "\n",
    "예) 비밀번호 숫자 4가지 : 경우의 수 10000가지\n",
    "\n",
    "가장 확실한 방법이라 의외로 많이 쓰인다\n",
    "\n",
    "4색정리 증명에도 쓰였다\n",
    "\n",
    "이 방법은 문제를 해결하기 위해 가능한 모든 경우를 다 따져보는 것이므로, 대개는 실행 속도가 느리고 메모리를 많이 소비하게 됩니다. 그러나 최적화된 알고리즘이 없을 때나, 문제의 입력 크기가 작은 경우에는 유용하게 사용될 수 있습니다.\n",
    "\n",
    "---\n",
    "\n",
    "문제 : N개의 수를 입력받아서 두수를 더해 합이 가장 큰 수는?\n",
    "\n",
    "무작위로 경우의 수를 이용하면 너무 계산이 오래걸림 O(N^2)\n",
    "그럼 수를 정렬해보자 정렬 알고리즘 O(NlogN)을 사용한 다음 제일 앞 두개를 더할 수 있다\n",
    "\n",
    "---\n",
    "\n",
    "무식하게 모든 경우의 수를 다 살펴봐도 시간초과나지 않을지 확인\n",
    "\n",
    "될 거 같으면 완전탐색으로 문제를 풀어보고 안될꺼 같으면 더 효율적인 알고리즘 찾아보자\n",
    "\n"
   ]
  },
  {
   "attachments": {},
   "cell_type": "markdown",
   "metadata": {},
   "source": [
    "**순열**\n",
    "\n",
    "모든 경우의 수를 순서대로 살펴볼 때 용이하다\n",
    "삼성 코테에서 순열(permutation)을 활용하면 쉽게 풀리는 문제들이 많이 나왔다고 함"
   ]
  },
  {
   "cell_type": "code",
   "execution_count": 17,
   "metadata": {},
   "outputs": [
    {
     "name": "stdout",
     "output_type": "stream",
     "text": [
      "(1, 2, 3)\n",
      "(1, 3, 2)\n",
      "(2, 1, 3)\n",
      "(2, 3, 1)\n",
      "(3, 1, 2)\n",
      "(3, 2, 1)\n"
     ]
    }
   ],
   "source": [
    "from itertools import permutations\n",
    "\n",
    "v = [3, 1, 2]\n",
    "v.sort()\n",
    "\n",
    "# 배열, 몇개를 뽑을 건지\n",
    "for i in permutations(v,3):\n",
    "    print(i)"
   ]
  },
  {
   "attachments": {},
   "cell_type": "markdown",
   "metadata": {},
   "source": [
    "**조합**\n"
   ]
  },
  {
   "cell_type": "code",
   "execution_count": 22,
   "metadata": {},
   "outputs": [
    {
     "name": "stdout",
     "output_type": "stream",
     "text": [
      "(1, 2)\n",
      "(1, 3)\n",
      "(2, 3)\n"
     ]
    }
   ],
   "source": [
    "from itertools import combinations\n",
    "\n",
    "v = [3, 1, 2]\n",
    "v.sort()\n",
    "\n",
    "for i in combinations(v, 2):\n",
    "    print(i)"
   ]
  },
  {
   "attachments": {},
   "cell_type": "markdown",
   "metadata": {},
   "source": [
    "**2309 일곱 난쟁이**\n",
    "\n",
    "왕비를 피해 일곱 난쟁이들과 함께 평화롭게 생활하고 있던 백설공주에게 위기가 찾아왔다. 일과를 마치고 돌아온 난쟁이가 일곱 명이 아닌 아홉 명이었던 것이다.\n",
    "\n",
    "아홉 명의 난쟁이는 모두 자신이 \"백설 공주와 일곱 난쟁이\"의 주인공이라고 주장했다. 뛰어난 수학적 직관력을 가지고 있던 백설공주는, 다행스럽게도 일곱 난쟁이의 키의 합이 100이 됨을 기억해 냈다.\n",
    "\n",
    "아홉 난쟁이의 키가 주어졌을 때, 백설공주를 도와 일곱 난쟁이를 찾는 프로그램을 작성하시오.\n",
    "\n",
    "---\n",
    "\n",
    "조합을 사용해서 9개중에 7개를 뽑고\n",
    "그 조합들의 합이 100이 되는 경우만을 추출해보면 되지 않을까?"
   ]
  },
  {
   "cell_type": "code",
   "execution_count": 30,
   "metadata": {},
   "outputs": [
    {
     "name": "stdout",
     "output_type": "stream",
     "text": [
      "7\n",
      "8\n",
      "10\n",
      "13\n",
      "19\n",
      "20\n",
      "23\n"
     ]
    }
   ],
   "source": [
    "seven_dwarf = [20, 7, 23, 19, 10, 15, 25, 8, 13]\n",
    "\n",
    "from itertools import combinations\n",
    "seven_dwarf.sort()\n",
    "\n",
    "for i in combinations(seven_dwarf, 7):\n",
    "    if sum(i) == 100:\n",
    "        for hight in i:\n",
    "            print(hight)\n",
    "\n",
    "        break"
   ]
  },
  {
   "attachments": {},
   "cell_type": "markdown",
   "metadata": {},
   "source": [
    "위 코드에 문제가 없어보이는데... 제출하면 틀렸다고 나온다...\n",
    "답을 하나만 작성해야하는데 합이 100이 되는 경우가 많은 경우 반복문이 무한정 계속 되기 때문에 break를 꼭 넣어줘야한다\n",
    "\n",
    "---\n",
    "\n",
    "combination 없이 문제를 푸는 방법이 있을까?\n",
    "\n",
    "9명중에 7명을 뽑는 문제는 9명중에 2명을 뽑는 문제와 같다.\n",
    "\n",
    "9명중에 7명을 뽑으려면 for문을 7개 중첩해야해서.. 계산 복잡도가 커짐..\n",
    "\n",
    "전체 키를 더한것에서 두명의 키를 뺀게 100이 되면된다!"
   ]
  },
  {
   "cell_type": "code",
   "execution_count": 50,
   "metadata": {},
   "outputs": [
    {
     "name": "stdout",
     "output_type": "stream",
     "text": [
      "7\n",
      "8\n",
      "10\n",
      "13\n",
      "19\n",
      "20\n",
      "23\n"
     ]
    }
   ],
   "source": [
    "seven_dwarf = [20, 7, 23, 19, 10, 15, 25, 8, 13]\n",
    "seven_dwarf.sort()\n",
    "\n",
    "for i in range(9):\n",
    "    for j in range(i+1, 9):\n",
    "        result = sum(seven_dwarf)-seven_dwarf[i]-seven_dwarf[j]\n",
    "        if result == 100:\n",
    "            for k in range(9):\n",
    "                if i != k and j != k:\n",
    "                    print(seven_dwarf[k])\n",
    "\n",
    "            break"
   ]
  },
  {
   "cell_type": "code",
   "execution_count": null,
   "metadata": {},
   "outputs": [],
   "source": []
  }
 ],
 "metadata": {
  "kernelspec": {
   "display_name": "ML",
   "language": "python",
   "name": "python3"
  },
  "language_info": {
   "codemirror_mode": {
    "name": "ipython",
    "version": 3
   },
   "file_extension": ".py",
   "mimetype": "text/x-python",
   "name": "python",
   "nbconvert_exporter": "python",
   "pygments_lexer": "ipython3",
   "version": "3.8.16"
  },
  "orig_nbformat": 4
 },
 "nbformat": 4,
 "nbformat_minor": 2
}
