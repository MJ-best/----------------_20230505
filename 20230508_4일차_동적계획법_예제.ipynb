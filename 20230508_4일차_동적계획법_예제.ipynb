{
 "cells": [
  {
   "attachments": {},
   "cell_type": "markdown",
   "metadata": {},
   "source": [
    "## 11726 2xn 타일문제\n",
    "\n",
    "2xn 크기의 직사각형을 1x2, 2x1 크기의 타일로 채우는 방법의 수를 구하는 문제입니다. 타일을 회전시킬 수 없고, 직사각형을 빈칸 없이 채워야 합니다.\n",
    "\n",
    "--- \n",
    "\n",
    "해보면 점화식이 나오게 되는데\n",
    "\n",
    "\n",
    "f(n) = f(n-1) + f(n-2)"
   ]
  },
  {
   "cell_type": "code",
   "execution_count": 13,
   "metadata": {},
   "outputs": [
    {
     "name": "stdout",
     "output_type": "stream",
     "text": [
      "1115\n"
     ]
    }
   ],
   "source": [
    "N = int(input())\n",
    "cache = [0]*1001\n",
    "\n",
    "def tile(n):\n",
    "    cache[1] = 1\n",
    "    cache[2] = 2\n",
    "    \n",
    "    if cache[n]==0:\n",
    "        cache[n]= tile(n-1) + tile(n-2)\n",
    "\n",
    "    ans = cache[n] % 10007\n",
    "    return ans\n",
    "\n",
    "print(tile(N))\n"
   ]
  },
  {
   "cell_type": "code",
   "execution_count": 16,
   "metadata": {},
   "outputs": [
    {
     "name": "stdout",
     "output_type": "stream",
     "text": [
      "1115\n"
     ]
    }
   ],
   "source": [
    "dp = [0] * 1001\n",
    "n = int(input())\n",
    "for i in range(1001):\n",
    "    dp[1] = 1\n",
    "    dp[2] = 2 \n",
    "    dp[i] = dp[i-1] + dp[i-2]\n",
    "\n",
    "print(dp[n] % 10007)"
   ]
  },
  {
   "attachments": {},
   "cell_type": "markdown",
   "metadata": {},
   "source": [
    "## 10844 쉬운 계단 수\n",
    "\n",
    "45656이란 수를 보자.\n",
    "\n",
    "이 수는 인접한 모든 자리의 차이가 1이다. 이런 수를 계단 수라고 한다.\n",
    "\n",
    "N이 주어질 때, 길이가 N인 계단 수가 총 몇 개 있는지 구해보자. 0으로 시작하는 수는 계단수가 아니다.\n",
    "\n",
    "손으로 해보면 점화식을 도출할 수 있다.\n",
    "\n",
    "N = 1 : (10-1)개 1, 2, 3, 4, 5, 6, 7, 8, 9\n",
    "\n",
    "N = 2 : (10-2) * 2 + 1개 10, 12, 21, 23, 32, 34, 43, 45, 54, 56, 65, 67, 76, 78, 87, 89, 98\n",
    "\n",
    "N = 3 : (10-3) * 3 + 1개\n"
   ]
  },
  {
   "cell_type": "code",
   "execution_count": 18,
   "metadata": {},
   "outputs": [
    {
     "name": "stdout",
     "output_type": "stream",
     "text": [
      "999991000\n"
     ]
    }
   ],
   "source": [
    "memo = [0]*1000\n",
    "n = int(input())\n",
    "\n",
    "for i in range(1000):\n",
    "    memo[i] = (10-i) * i\n",
    "    break\n",
    "\n",
    "print(memo[n] % 1000000000)"
   ]
  },
  {
   "attachments": {},
   "cell_type": "markdown",
   "metadata": {},
   "source": [
    "왜 틀렸지...\n",
    "\n",
    "점화식을 잘 못 구했다.\n",
    "\n",
    "4564면 뒤에 오는 숫자는 4+1 또는 4-1이다.\n",
    "\n",
    "6789면 뒤에 오는 숫자는 8뿐이고\n",
    "\n",
    "10110면 뒤에 오는 숫자는 1뿐이다.\n",
    "\n",
    "자릿수를 n 마지막 숫자를 d라고 하자\n",
    "\n",
    "f(n, d) : 계단수의 개수\n",
    "\n",
    "f(n, d) = f(n-1, d+1) + f(n-1, d-1)\n",
    "\n"
   ]
  },
  {
   "cell_type": "code",
   "execution_count": 23,
   "metadata": {},
   "outputs": [
    {
     "name": "stdout",
     "output_type": "stream",
     "text": [
      "32\n"
     ]
    }
   ],
   "source": [
    "MOD = 1_000_000_000\n",
    "\n",
    "# cache[n][d] : 길이가 n, 마지막 숫자가 d인 계산수 개수\n",
    "cache = [[0] * 10 for _ in range(101)]\n",
    "\n",
    "# N이 1일때 초기화\n",
    "for j in range(1, 10):\n",
    "    cache[1][j] = 1\n",
    "\n",
    "for i in range(2, 101):\n",
    "    for j in range(10):\n",
    "        # 맨뒤의 숫자가 0이면 j-1은 성립안됨\n",
    "        if j > 0:\n",
    "            cache[i][j] += cache[i-1][j-1]\n",
    "        # 맨뒤의 숫자가 9이면 j+1은 성립안됨\n",
    "        if j < 9:\n",
    "            cache[i][j] += cache[i-1][j+1]\n",
    "\n",
    "\n",
    "ans = 0\n",
    "\n",
    "N = int(input())\n",
    "for j in range(10):\n",
    "    ans += cache[N][j]\n",
    "    ans %= MOD\n",
    "\n",
    "print(ans)\n"
   ]
  },
  {
   "attachments": {},
   "cell_type": "markdown",
   "metadata": {},
   "source": [
    "**chatGPT**\n",
    "\n",
    "이 문제는 길이가 N인 계단 수의 개수를 찾는 문제입니다. 계단 수는 인접한 모든 자리 수의 차이가 1이 나는 수를 말합니다. 예를 들어, 1234, 45678, 321 등이 계단 수입니다.\n",
    "\n",
    "이 문제를 풀기 위해서는 동적 계획법(Dynamic Programming)을 사용할 수 있습니다. 다음과 같이 D[i][j]를 i자리의 j로 끝나는 계단 수의 개수라고 정의합니다.\n",
    "\n",
    "그리고 N자리의 계단 수의 개수는 D[N][0] + D[N][1] + ... + D[N][9] 입니다. 이때 D[i][j]는 D[i-1][j-1] + D[i-1][j+1]의 값과 같습니다. 예를 들어, 2자리의 계단 수의 개수를 구할 때는 다음과 같은 규칙을 따릅니다.\n",
    "\n",
    "0으로 끝나는 계단 수: 1\n",
    "\n",
    "1으로 끝나는 계단 수: 1\n",
    "\n",
    "2로 끝나는 계단 수: 2 (10, 12)\n",
    "\n",
    "3으로 끝나는 계단 수: 2 (21, 23)\n",
    "\n",
    "4로 끝나는 계단 수: 2 (32, 34)\n",
    "\n",
    "5로 끝나는 계단 수: 2 (43, 45)\n",
    "\n",
    "6으로 끝나는 계단 수: 2 (54, 56)\n",
    "\n",
    "7으로 끝나는 계단 수: 2 (65, 67)\n",
    "\n",
    "8으로 끝나는 계단 수: 2 (76, 78)\n",
    "\n",
    "9로 끝나는 계단 수: 1 (87)\n",
    "\n",
    "따라서 2자리의 계단 수의 개수는 17이 됩니다."
   ]
  },
  {
   "cell_type": "code",
   "execution_count": 24,
   "metadata": {},
   "outputs": [
    {
     "name": "stdout",
     "output_type": "stream",
     "text": [
      "420939949\n"
     ]
    }
   ],
   "source": [
    "N = int(input())\n",
    "D = [[0] * 10 for _ in range(N+1)]\n",
    "for i in range(1, 10):\n",
    "    D[1][i] = 1\n",
    "for i in range(2, N+1):\n",
    "    for j in range(10):\n",
    "        if j == 0:\n",
    "            D[i][j] = D[i-1][1]\n",
    "        elif j == 9:\n",
    "            D[i][j] = D[i-1][8]\n",
    "        else:\n",
    "            D[i][j] = D[i-1][j-1] + D[i-1][j+1]\n",
    "print(sum(D[N]) % 1000000000)\n"
   ]
  },
  {
   "cell_type": "code",
   "execution_count": null,
   "metadata": {},
   "outputs": [],
   "source": []
  }
 ],
 "metadata": {
  "kernelspec": {
   "display_name": "ML",
   "language": "python",
   "name": "python3"
  },
  "language_info": {
   "codemirror_mode": {
    "name": "ipython",
    "version": 3
   },
   "file_extension": ".py",
   "mimetype": "text/x-python",
   "name": "python",
   "nbconvert_exporter": "python",
   "pygments_lexer": "ipython3",
   "version": "3.8.16"
  },
  "orig_nbformat": 4
 },
 "nbformat": 4,
 "nbformat_minor": 2
}
