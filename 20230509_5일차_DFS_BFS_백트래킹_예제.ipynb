{
 "cells": [
  {
   "attachments": {},
   "cell_type": "markdown",
   "metadata": {},
   "source": [
    "## 길찾기 문제\n",
    "보통 4방향이 많다. 방향값을미리 코드에 짜두고 for문으로 상대좌표값을 구한다\n",
    "\n",
    "전형적인 코드"
   ]
  },
  {
   "cell_type": "code",
   "execution_count": 4,
   "metadata": {},
   "outputs": [],
   "source": [
    "dy = (0, 1, 0, -1)\n",
    "dx = (1, 0, -1, 0)\n",
    "chk = [[False] * 100 for _ in range(100)]\n",
    "N = int(input())\n",
    "\n",
    "def is_valid_coord(y,x):\n",
    "    return 0 <= y < N and 0 <= x < N\n",
    "\n",
    "def dfs(start_y, start_x):\n",
    "    q = deque()\n",
    "    q.append((start_y, start_x))\n",
    "    while len(q) > 0:\n",
    "        y, x = q.popleft()\n",
    "        chk[y][x] = True\n",
    "        for k in range(4):\n",
    "            ny = y + dy[k]\n",
    "            nx = x + dx[k]\n",
    "            if is_valid_coord(ny, nx) and not chk[ny][nx]:\n",
    "                q.append((ny,nx))"
   ]
  },
  {
   "attachments": {},
   "cell_type": "markdown",
   "metadata": {},
   "source": [
    "## 백트래킹 \n",
    "\n",
    "기본적으로 모든 경우를 탐색하며 DFS/BFS와 방식은 유사하다.\n",
    "\n",
    "백트래킹은 가지치기를 통해 탐색경우의 수를 줄인다는 차이가 있다.\n",
    "(미연시처럼.. 잘못된 선택지를 선택하는 순간 게임 오버가 되는...)\n",
    "\n",
    "- 최악의 경우 모든 경우를 다 살펴보겠지만 가능한 덜 보겠다\n",
    "- 가망성이 없으면 가지 않는다\n"
   ]
  },
  {
   "attachments": {},
   "cell_type": "markdown",
   "metadata": {},
   "source": [
    "## 11724 연결 요소의 개수\n",
    "\n",
    "방향성이 없는 그래프가 주어졌을때 연결요소의 개수를 구하는 프로그램을 작성하시오.\n",
    "\n",
    "첫번째 입력 정점의 개수 N 간선의 개수 M\n",
    "두번째 입력 M개의 줄에 간선의 양 끝점 u와 v가 주어진다\n",
    "\n",
    "6 5 : 점은 6개 선은 5개\n",
    "\n",
    "1 2 : 1와 2는 연결\n",
    "\n",
    "2 5 : 2와 5도 연결\n",
    "\n",
    "5 1 : 1 2 5는 서로 연결\n",
    "\n",
    "3 4 : 3과 4는 연결\n",
    "\n",
    "4 6 : 4와 6은 연결\n",
    "\n",
    "연결요소는 총 2개"
   ]
  },
  {
   "cell_type": "code",
   "execution_count": 4,
   "metadata": {},
   "outputs": [
    {
     "name": "stdout",
     "output_type": "stream",
     "text": [
      "[0, 1, 0, 0, 1, 0]\n",
      "[1, 0, 0, 0, 1, 0]\n",
      "[0, 0, 0, 1, 0, 0]\n",
      "[0, 0, 1, 0, 0, 1]\n",
      "[1, 1, 0, 0, 0, 0]\n",
      "[0, 0, 0, 1, 0, 0]\n",
      "연결요소 갯수 : 2\n"
     ]
    }
   ],
   "source": [
    "\n",
    "N, M = map(int, input().split())\n",
    "adj = [[0] * N for _ in range(N)]\n",
    "\n",
    "for _ in range(M):\n",
    "    a, b = map(int, input().split())\n",
    "    a -= 1\n",
    "    b -= 1\n",
    "    adj[a][b] = adj[b][a] = 1\n",
    "\n",
    "for row in adj:\n",
    "    print(row)\n",
    "\n",
    "#연결요소 갯수\n",
    "ans = 0\n",
    "#연결요소 확인을 위한 chk\n",
    "chk = [False] * N\n",
    "\n",
    "def dfs(now):\n",
    "    for nxt in range(N):\n",
    "        if adj[now][nxt] and not chk[nxt]:\n",
    "            chk[nxt] = True\n",
    "            dfs(nxt)\n",
    "\n",
    "\n",
    "for i in range(N):\n",
    "    if not chk[i]:\n",
    "        ans += 1\n",
    "        chk[i] = True\n",
    "        dfs(i)\n",
    "\n",
    "print(\"연결요소 갯수 :\",ans)"
   ]
  },
  {
   "cell_type": "code",
   "execution_count": 6,
   "metadata": {},
   "outputs": [
    {
     "name": "stdout",
     "output_type": "stream",
     "text": [
      "2\n"
     ]
    }
   ],
   "source": [
    "from collections import deque\n",
    "\n",
    "def dfs(node):\n",
    "    visited[node] = True\n",
    "    for i in graph[node]:\n",
    "        if not visited[i]:\n",
    "            dfs(i)\n",
    "\n",
    "def bfs(node):\n",
    "    queue = deque([node])\n",
    "    visited[node] = True\n",
    "    while queue:\n",
    "        cur_node = queue.popleft()\n",
    "        for i in graph[cur_node]:\n",
    "            if not visited[i]:\n",
    "                visited[i] = True\n",
    "                queue.append(i)\n",
    "\n",
    "# 입력 받기\n",
    "N, M = map(int, input().split())\n",
    "graph = [[] for _ in range(N+1)]\n",
    "for _ in range(M):\n",
    "    u, v = map(int, input().split())\n",
    "    graph[u].append(v)\n",
    "    graph[v].append(u)\n",
    "\n",
    "# 초기화\n",
    "visited = [False] * (N+1)\n",
    "\n",
    "# DFS 탐색\n",
    "count = 0\n",
    "for i in range(1, N+1):\n",
    "    if not visited[i]:\n",
    "        dfs(i)\n",
    "        count += 1\n",
    "\n",
    "# BFS 탐색\n",
    "count = 0\n",
    "visited = [False] * (N+1)\n",
    "for i in range(1, N+1):\n",
    "    if not visited[i]:\n",
    "        bfs(i)\n",
    "        count += 1\n",
    "\n",
    "# 결과 출력\n",
    "print(count)"
   ]
  },
  {
   "attachments": {},
   "cell_type": "markdown",
   "metadata": {},
   "source": [
    "## 2178 미로탐색\n",
    "\n",
    "N×M크기의 배열로 표현되는 미로가 있다.\n",
    "\n",
    "1\t0\t1\t1\t1\t1\n",
    "\n",
    "1\t0\t1\t0\t1\t0\n",
    "\n",
    "1\t0\t1\t0\t1\t1\n",
    "\n",
    "1\t1\t1\t0\t1\t1\n",
    "\n",
    "미로에서 1은 이동할 수 있는 칸을 나타내고, 0은 이동할 수 없는 칸을 나타낸다. 이러한 미로가 주어졌을 때, (1, 1)에서 출발하여 (N, M)의 위치로 이동할 때 지나야 하는 최소의 칸 수를 구하는 프로그램을 작성하시오. 한 칸에서 다른 칸으로 이동할 때, 서로 인접한 칸으로만 이동할 수 있다.\n",
    "\n",
    "위의 예에서는 15칸을 지나야 (N, M)의 위치로 이동할 수 있다. 칸을 셀 때에는 시작 위치와 도착 위치도 포함한다.\n",
    "\n",
    "첫째 줄에 두 정수 N, M(2 ≤ N, M ≤ 100)이 주어진다. 다음 N개의 줄에는 M개의 정수로 미로가 주어진다. 각각의 수들은 붙어서 입력으로 주어진다."
   ]
  },
  {
   "cell_type": "code",
   "execution_count": 8,
   "metadata": {},
   "outputs": [
    {
     "ename": "ValueError",
     "evalue": "not enough values to unpack (expected 3, got 2)",
     "output_type": "error",
     "traceback": [
      "\u001b[0;31m---------------------------------------------------------------------------\u001b[0m",
      "\u001b[0;31mValueError\u001b[0m                                Traceback (most recent call last)",
      "Cell \u001b[0;32mIn[8], line 32\u001b[0m\n\u001b[1;32m     29\u001b[0m                 chk[ny][nx] \u001b[39m=\u001b[39m \u001b[39mTrue\u001b[39;00m\n\u001b[1;32m     30\u001b[0m                 dq\u001b[39m.\u001b[39mappend((ny,nx))\n\u001b[0;32m---> 32\u001b[0m \u001b[39mprint\u001b[39m(bfs())\n",
      "Cell \u001b[0;32mIn[8], line 19\u001b[0m, in \u001b[0;36mbfs\u001b[0;34m()\u001b[0m\n\u001b[1;32m     17\u001b[0m dq\u001b[39m.\u001b[39mappend((\u001b[39m0\u001b[39m,\u001b[39m0\u001b[39m,\u001b[39m1\u001b[39m)) \u001b[39m#몇칸 갔는지도 센다 시작칸도 1이므로 1\u001b[39;00m\n\u001b[1;32m     18\u001b[0m \u001b[39mwhile\u001b[39;00m dq:\n\u001b[0;32m---> 19\u001b[0m     y, x, d \u001b[39m=\u001b[39m dq\u001b[39m.\u001b[39mpopleft()\n\u001b[1;32m     21\u001b[0m     \u001b[39mif\u001b[39;00m y \u001b[39m==\u001b[39m N\u001b[39m-\u001b[39m\u001b[39m1\u001b[39m \u001b[39mand\u001b[39;00m x \u001b[39m==\u001b[39mM\u001b[39m-\u001b[39m\u001b[39m1\u001b[39m:\n\u001b[1;32m     22\u001b[0m         \u001b[39mreturn\u001b[39;00m d\n",
      "\u001b[0;31mValueError\u001b[0m: not enough values to unpack (expected 3, got 2)"
     ]
    }
   ],
   "source": [
    "from collections import deque\n",
    "\n",
    "dy = (0, 1, 0, -1)\n",
    "dx = (1, 0, -1, 0)\n",
    "\n",
    "N, M = map(int, input().split())\n",
    "board = [input() for _ in range(N)]\n",
    "\n",
    "def is_valid_coord(y, x):\n",
    "    return 0<=y<N and 0<=x<M\n",
    "\n",
    "\n",
    "def bfs():\n",
    "    chk = [[False] * M for _ in range(N)]\n",
    "    chk[0][0] = True\n",
    "    dq = deque()\n",
    "    dq.append((0,0,1)) #몇칸 갔는지도 센다 시작칸도 1이므로 1\n",
    "    while dq:\n",
    "        y, x, d = dq.popleft()\n",
    "        \n",
    "        if y == N-1 and x ==M-1:\n",
    "            return d\n",
    "        \n",
    "        nd = d+1\n",
    "        for k in range(4):\n",
    "            ny = y+dy[k]\n",
    "            nx = x+dx[k]\n",
    "            if is_valid_coord(ny, nx) and board[ny][nx] == '1' and not chk[ny][nx]:\n",
    "                chk[ny][nx] = True\n",
    "                dq.append((ny,nx))\n",
    "\n",
    "print(bfs())"
   ]
  },
  {
   "cell_type": "code",
   "execution_count": null,
   "metadata": {},
   "outputs": [],
   "source": []
  }
 ],
 "metadata": {
  "kernelspec": {
   "display_name": "ML",
   "language": "python",
   "name": "python3"
  },
  "language_info": {
   "codemirror_mode": {
    "name": "ipython",
    "version": 3
   },
   "file_extension": ".py",
   "mimetype": "text/x-python",
   "name": "python",
   "nbconvert_exporter": "python",
   "pygments_lexer": "ipython3",
   "version": "3.8.16"
  },
  "orig_nbformat": 4
 },
 "nbformat": 4,
 "nbformat_minor": 2
}
