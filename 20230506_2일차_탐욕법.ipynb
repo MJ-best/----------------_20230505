{
 "cells": [
  {
   "attachments": {},
   "cell_type": "markdown",
   "metadata": {},
   "source": [
    "탐욕법 Greedy Algorithm\n",
    "\n",
    "매 순간마다 최선으 경우만을 골라간다\n",
    "\n",
    "다른 경우는 고려하지 않는다. 나중은 생각하지 않는다\n",
    "\n",
    "모든 경우를 다 보지 않으니 완전탐색보다 빠르다\n",
    "\n",
    "어떤 경우가 최선인지 찾는게 포인트, 반례가 생기는 문제는 그리디로 풀면 안됨\n",
    "\n",
    "---\n",
    "\n",
    "동전 거스름돈 문제\n",
    "\n",
    "10, 50, 100, 500원 동전들을 무한하게 가지고 있다.\n",
    "\n",
    "손님에게 800원을 거슬러주려고 할 때 동전을 최소한으로 주는 방법은?\n",
    "\n",
    "거스름돈 문제에서는 우리가 가진 동전 중에서 가장 큰 단위의 동전을 먼저 사용해서 거스름돈을 만들어나가는 방법입니다. 이 때, 가장 큰 단위의 동전이 먼저 사용되면서 동전의 개수가 최소화되고, 거스름돈을 정확히 맞출 수 있게 됩니다.\n",
    "\n",
    "하지만 만약 문제가 달라져서\n",
    "\n",
    "100, 400, 500원 동전들이 무한하게 가지고 있다.\n",
    "\n",
    "이 경우 400원 2개로 최소한으로 할 수 있지만\n",
    "\n",
    "그리디 알고리즘을 적용하면 500원을 무조건 포함시키기 때문에 4개로만 거슬로 주게 되어 최적해가 아니게 된다.\n",
    "\n",
    "왜 이런 차이가 생겼을까? 10, 50, 100, 500원인 경우 서로가 서로에게 배수관계를 가지고 있었지만, 100, 400, 500원의 경우 배수관계를 충족하지 않기때문에 그리디 알고리즘을 적용시킬 수가 없었다. \n",
    "\n",
    "---\n",
    "\n",
    "그리지 문제의 진짜 어려운 부분은\n",
    "\n",
    "\"이 문제가 그리디 문제인지 판별부터가 어렵다\"\n",
    "\n",
    "반례가 있는지 없는지를 계속 고민해야한다."
   ]
  },
  {
   "attachments": {},
   "cell_type": "markdown",
   "metadata": {},
   "source": [
    "**11047 동전 0**\n",
    "\n",
    "준규가 가지고 있는 동전은 총 N종류이고, 각각의 동전을 매우 많이 가지고 있다.\n",
    "\n",
    "동전을 적절히 사용해서 그 가치의 합을 K로 만들려고 한다. 이때 필요한 동전 개수의 최솟값을 구하는 프로그램을 작성하시오.\n",
    "\n",
    "첫째 줄에 N과 K가 주어진다. (1 ≤ N ≤ 10, 1 ≤ K ≤ 100,000,000)\n",
    "\n",
    "둘째 줄부터 N개의 줄에 동전의 가치 Ai가 오름차순으로 주어진다. (1 ≤ Ai ≤ 1,000,000, A1 = 1, i ≥ 2인 경우에 Ai는 Ai-1의 배수)\n",
    "\n",
    "---\n",
    "\n",
    "각 동전이 서로 배수 관계를 만족하므로 그리지 문제로 접근할 수 있을 것 같다\n",
    "\n",
    "완전 탐색을 사용할 경우 K가 매우 커질 경우 탐색시간이 너무 많이 걸릴 것이다\n",
    "\n",
    "제일 큰 동전부터 써서 남은 금액을 ans에 더한다"
   ]
  },
  {
   "cell_type": "code",
   "execution_count": 11,
   "metadata": {},
   "outputs": [
    {
     "name": "stdout",
     "output_type": "stream",
     "text": [
      "coin: 50000, K: 4790, ans: 0\n",
      "coin: 10000, K: 4790, ans: 0\n",
      "coin: 5000, K: 4790, ans: 0\n",
      "coin: 1000, K: 790, ans: 4\n",
      "coin: 500, K: 290, ans: 5\n",
      "coin: 100, K: 90, ans: 7\n",
      "coin: 50, K: 40, ans: 8\n",
      "coin: 10, K: 0, ans: 12\n",
      "coin: 5, K: 0, ans: 12\n",
      "coin: 1, K: 0, ans: 12\n",
      "12\n"
     ]
    }
   ],
   "source": [
    "#N, K = map(int, input().split())\n",
    "#coins = []\n",
    "#for _ in range(N):\n",
    "#    coins.append(int(input()))\n",
    "\n",
    "N = 10\n",
    "K = 4790\n",
    "\n",
    "coins = [1, 5, 10, 50, 100, 500, 1000, 5000, 10000, 50000]\n",
    "\n",
    "coins.reverse()\n",
    "ans = 0 \n",
    "for coin in coins:\n",
    "    ans += K // coin\n",
    "    K %= coin\n",
    "    print(f'coin: {coin}, K: {K}, ans: {ans}')\n",
    "\n",
    "print(ans)"
   ]
  },
  {
   "attachments": {},
   "cell_type": "markdown",
   "metadata": {},
   "source": [
    "**1449 수리공 항승**\n",
    "\n",
    "항승이는 품질이 심각하게 나쁜 수도 파이프 회사의 수리공이다. 항승이는 세준 지하철 공사에서 물이 샌다는 소식을 듣고 수리를 하러 갔다.\n",
    "\n",
    "파이프에서 물이 새는 곳은 신기하게도 가장 왼쪽에서 정수만큼 떨어진 거리만 물이 샌다.\n",
    "\n",
    "항승이는 길이가 L인 테이프를 무한개 가지고 있다.\n",
    "\n",
    "항승이는 테이프를 이용해서 물을 막으려고 한다. 항승이는 항상 물을 막을 때, 적어도 그 위치의 좌우 0.5만큼 간격을 줘야 물이 다시는 안 샌다고 생각한다.\n",
    "\n",
    "물이 새는 곳의 위치와, 항승이가 가지고 있는 테이프의 길이 L이 주어졌을 때, 항승이가 필요한 테이프의 최소 개수를 구하는 프로그램을 작성하시오. 테이프를 자를 수 없고, 테이프를 겹쳐서 붙이는 것도 가능하다.\n",
    "\n",
    "첫째 줄에 물이 새는 곳의 개수 N과 테이프의 길이 L이 주어진다. 둘째 줄에는 물이 새는 곳의 위치가 주어진다. N과 L은 1,000보다 작거나 같은 자연수이고, 물이 새는 곳의 위치는 1,000보다 작거나 같은 자연수이다.\n",
    "\n",
    "---\n",
    "\n",
    "테이프 길이가 3\n",
    "구멍이 난 위치가 1 2 3 4\n",
    "위치 1 2 3은 테이프 하나로 막아지고\n",
    "위치 4는 안막아져서 테이프 하나를 더 써야하니까 최소 사용 테이프는 2개\n",
    "\n",
    "---\n",
    "\n"
   ]
  },
  {
   "cell_type": "code",
   "execution_count": 12,
   "metadata": {},
   "outputs": [
    {
     "name": "stdout",
     "output_type": "stream",
     "text": [
      "2\n"
     ]
    }
   ],
   "source": [
    "n, l = map(int, input().split())\n",
    "pipes = list(map(int, input().split()))\n",
    "pipes.sort()  # 파이프 위치를 정렬합니다.\n",
    "\n",
    "count = 1  # 첫 번째 파이프는 테이프를 붙이는 것이 필수이므로 1부터 시작합니다.\n",
    "end = pipes[0] + l - 1  # 첫 번째 테이프의 끝 위치를 설정합니다.\n",
    "\n",
    "for i in range(1, n):\n",
    "    if pipes[i] <= end:  # 이전 테이프가 끝나기 전에 다음 파이프가 나오면 같이 테이프로 막을 수 있습니다.\n",
    "        continue\n",
    "    else:  # 이전 테이프로 막지 못한 파이프가 있으면 새로운 테이프를 붙입니다.\n",
    "        count += 1\n",
    "        end = pipes[i] + l - 1\n",
    "\n",
    "print(count)\n"
   ]
  },
  {
   "cell_type": "code",
   "execution_count": 17,
   "metadata": {},
   "outputs": [
    {
     "name": "stdout",
     "output_type": "stream",
     "text": [
      "4\n"
     ]
    }
   ],
   "source": [
    "N, L = map(int, input().split())\n",
    "coord = [False] * 1001 #파이프의 길이가 1000를 넘지 않는다고 했으므로 1001를 False로 넣어놓는다\n",
    "\n",
    "for i in map(int, input().split()):\n",
    "    coord[i] = True #구멍난 부분만 True\n",
    "\n",
    "tape_count = 0\n",
    "x = 0\n",
    "while x < 1001:\n",
    "    if coord[x]:\n",
    "        tape_count += 1\n",
    "        x += L\n",
    "    else:\n",
    "        x += 1\n",
    "\n",
    "print(tape_count)\n"
   ]
  },
  {
   "cell_type": "code",
   "execution_count": null,
   "metadata": {},
   "outputs": [],
   "source": []
  }
 ],
 "metadata": {
  "kernelspec": {
   "display_name": "ML",
   "language": "python",
   "name": "python3"
  },
  "language_info": {
   "codemirror_mode": {
    "name": "ipython",
    "version": 3
   },
   "file_extension": ".py",
   "mimetype": "text/x-python",
   "name": "python",
   "nbconvert_exporter": "python",
   "pygments_lexer": "ipython3",
   "version": "3.8.16"
  },
  "orig_nbformat": 4
 },
 "nbformat": 4,
 "nbformat_minor": 2
}
