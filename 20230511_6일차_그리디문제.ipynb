{
 "cells": [
  {
   "attachments": {},
   "cell_type": "markdown",
   "metadata": {},
   "source": [
    "## 그리디 문제풀이\n",
    "- 이것이 취업을 위한 코딩테스트다 : 나동빈\n",
    "- 프로그래머스 고득점KIT"
   ]
  },
  {
   "cell_type": "code",
   "execution_count": 3,
   "metadata": {},
   "outputs": [
    {
     "name": "stdout",
     "output_type": "stream",
     "text": [
      "받은돈 : 15500 거슬러준 돈 : 500 준 동전 갯수 : 31\n",
      "남은돈 : 0\n",
      "받은돈 : 0 거슬러준 돈 : 100 준 동전 갯수 : 31\n",
      "남은돈 : 0\n",
      "받은돈 : 0 거슬러준 돈 : 50 준 동전 갯수 : 31\n",
      "남은돈 : 0\n",
      "받은돈 : 0 거슬러준 돈 : 10 준 동전 갯수 : 31\n",
      "남은돈 : 0\n"
     ]
    },
    {
     "data": {
      "text/plain": [
       "31"
      ]
     },
     "execution_count": 3,
     "metadata": {},
     "output_type": "execute_result"
    }
   ],
   "source": [
    "# 거스름돈\n",
    "N = int(input())\n",
    "\n",
    "coins = [500, 100, 50, 10]\n",
    "count = 0\n",
    "for coin in coins:\n",
    "    count += N // coin\n",
    "    print(f\"받은돈 : {N} 거슬러준 돈 : {coin} 준 동전 갯수 : {count}\")\n",
    "    N = N % coin\n",
    "    print(f\"남은돈 : {N}\")\n",
    "\n",
    "count"
   ]
  },
  {
   "cell_type": "code",
   "execution_count": 25,
   "metadata": {},
   "outputs": [
    {
     "name": "stdout",
     "output_type": "stream",
     "text": [
      "5 18\n",
      "4 23\n",
      "1 41\n",
      "0 46\n"
     ]
    }
   ],
   "source": [
    "# 큰 수의 법칙\n",
    "N, M, K = map(int, input().split())\n",
    "data = list(map(int, input().split()))\n",
    "ans = 0\n",
    "data.sort()\n",
    "first = data[-1]\n",
    "second = data[-2]\n",
    "\n",
    "while M>0:\n",
    "    for i in range(K):\n",
    "        if M == 0:\n",
    "            break\n",
    "        ans += first\n",
    "        M -= 1\n",
    "    print(M, ans)\n",
    "    if M == 0:\n",
    "        break\n",
    "    \n",
    "    ans += second\n",
    "    M -= 1\n",
    "    print(M, ans)"
   ]
  },
  {
   "cell_type": "code",
   "execution_count": 66,
   "metadata": {},
   "outputs": [
    {
     "data": {
      "text/plain": [
       "2"
      ]
     },
     "execution_count": 66,
     "metadata": {},
     "output_type": "execute_result"
    }
   ],
   "source": [
    "# 큰 수 찾기\n",
    "N, M = map(int, input().split())\n",
    "data = [[0]*M for i in range(N)]\n",
    "small = []\n",
    "\n",
    "for i in range(N):\n",
    "    data[i] = list(map(int,input().split()))\n",
    "    small.append(min(data[i]))\n",
    "\n",
    "ans = max(small)\n",
    "ans"
   ]
  },
  {
   "cell_type": "code",
   "execution_count": 69,
   "metadata": {},
   "outputs": [
    {
     "name": "stdout",
     "output_type": "stream",
     "text": [
      "1 26\n",
      "2 13\n",
      "3 12\n",
      "4 6\n",
      "5 3\n",
      "6 2\n",
      "7 1\n"
     ]
    },
    {
     "data": {
      "text/plain": [
       "7"
      ]
     },
     "execution_count": 69,
     "metadata": {},
     "output_type": "execute_result"
    }
   ],
   "source": [
    "# 1이 될때 까지\n",
    "N, K = map(int, input().split())\n",
    "count = 0\n",
    "\n",
    "while N != 1:\n",
    "    if N % K == 0:\n",
    "        N = N // K\n",
    "        count += 1\n",
    "        \n",
    "    else:\n",
    "        N -= 1\n",
    "        count += 1\n",
    "    \n",
    "    print(count, N)\n",
    "\n",
    "count"
   ]
  },
  {
   "cell_type": "code",
   "execution_count": 100,
   "metadata": {},
   "outputs": [
    {
     "name": "stdout",
     "output_type": "stream",
     "text": [
      "총 길드 수 : 2\n"
     ]
    }
   ],
   "source": [
    "# 모험가 길드\n",
    "N = int(input()) #사람수\n",
    "group_init = list(map(int, input().split()))\n",
    "\n",
    "count = 0\n",
    "brave = 0\n",
    "group = group_init\n",
    "group.sort()\n",
    "\n",
    "# 가장 용감한 사람을 뽑는다\n",
    "while len(group) > brave:\n",
    "    brave = group[0]\n",
    "\n",
    "    for i in range(brave):\n",
    "        group.pop(0)\n",
    "\n",
    "    count += 1\n",
    "\n",
    "print(f\"총 길드 수 : {count}\")\n"
   ]
  },
  {
   "cell_type": "code",
   "execution_count": 129,
   "metadata": {},
   "outputs": [
    {
     "name": "stdout",
     "output_type": "stream",
     "text": [
      "0\n",
      "6\n",
      "7 42\n",
      "2 84\n",
      "3 252\n",
      "1 252\n",
      "252\n"
     ]
    }
   ],
   "source": [
    "# 곱하기 혹은 더하기\n",
    "S = input()\n",
    "num = []\n",
    "\n",
    "for i in S:\n",
    "    num.append(int(i))\n",
    "\n",
    "if num[0] != 0:\n",
    "    ans = num[0]\n",
    "    print(ans)\n",
    "    for j in range(len(S)-1):\n",
    "        if num[j+1] == 0:\n",
    "            ans += num[j+1]\n",
    "            print(num[j+1], ans)\n",
    "        else:\n",
    "            ans *= num[j+1]\n",
    "            print(num[j+1], ans)\n",
    "else:\n",
    "    ans = num[0]\n",
    "    print(ans)\n",
    "    ans += num[1]\n",
    "    print(ans)\n",
    "\n",
    "    for k in range(len(S)-2):\n",
    "        if num[k+2] == 0:\n",
    "            ans += num[k+2]\n",
    "            print(num[k+2], ans)\n",
    "        else:\n",
    "            ans *= num[k+2]\n",
    "            print(num[k+2], ans)\n",
    "print(ans)"
   ]
  },
  {
   "cell_type": "code",
   "execution_count": 146,
   "metadata": {},
   "outputs": [
    {
     "data": {
      "text/plain": [
       "25"
      ]
     },
     "execution_count": 146,
     "metadata": {},
     "output_type": "execute_result"
    }
   ],
   "source": [
    "# 프로그래머스 체육복\n",
    "\n",
    "n = 30\n",
    "lost = [2, 4, 8, 10, 20, 23, 25]\n",
    "reserve = [3, 5, 12, 15, 16]\n",
    "ans = 0\n",
    "\n",
    "lost_set = set(lost)\n",
    "reserve_set = set(reserve)\n",
    "\n",
    "for student in lost_set.copy():\n",
    "    if student-1 in reserve_set:\n",
    "        reserve_set.remove(student-1)\n",
    "        lost_set.remove(student)\n",
    "\n",
    "\n",
    "    elif student+1 in reserve_set:\n",
    "        reserve_set.remove(student+1)\n",
    "        lost_set.remove(student)\n",
    "\n",
    "\n",
    "ans = n - len(lost_set)\n",
    "ans"
   ]
  },
  {
   "cell_type": "code",
   "execution_count": 135,
   "metadata": {},
   "outputs": [
    {
     "name": "stdout",
     "output_type": "stream",
     "text": [
      "1\n",
      "3\n"
     ]
    }
   ],
   "source": [
    "for i in range(len(lost)):"
   ]
  },
  {
   "cell_type": "code",
   "execution_count": null,
   "metadata": {},
   "outputs": [],
   "source": []
  }
 ],
 "metadata": {
  "kernelspec": {
   "display_name": "ML",
   "language": "python",
   "name": "python3"
  },
  "language_info": {
   "codemirror_mode": {
    "name": "ipython",
    "version": 3
   },
   "file_extension": ".py",
   "mimetype": "text/x-python",
   "name": "python",
   "nbconvert_exporter": "python",
   "pygments_lexer": "ipython3",
   "version": "3.8.16"
  },
  "orig_nbformat": 4
 },
 "nbformat": 4,
 "nbformat_minor": 2
}
