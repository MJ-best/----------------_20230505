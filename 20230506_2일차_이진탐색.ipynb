{
 "cells": [
  {
   "attachments": {},
   "cell_type": "markdown",
   "metadata": {},
   "source": [
    "이진 탐색 알고리즘(Binary Search Algorithm)은 정렬된 데이터에서 특정 값을 찾는 알고리즘입니다. 이 알고리즘은 데이터를 반으로 나누어 탐색하는 방법으로 동작하며, 탐색 범위를 반으로 줄여나가면서 찾고자 하는 값이 있는 위치를 찾아냅니다.\n",
    "\n",
    "알고리즘의 동작 방식은 다음과 같습니다.\n",
    "\n",
    "정렬된 배열의 중간값을 선택합니다.\n",
    "1. 중간값이 찾고자 하는 값보다 작으면 중간값의 오른쪽 부분 배열을 탐색합니다.\n",
    "2. 중간값이 찾고자 하는 값보다 크면 중간값의 왼쪽 부분 배열을 탐색합니다.\n",
    "3. 중간값이 찾고자 하는 값과 같으면 탐색을 종료합니다.\n",
    "\n",
    "이진 탐색 알고리즘의 시간 복잡도는 O(logN)으로, 데이터의 양이 많아질수록 빠르게 동작합니다. 하지만 이 알고리즘은 배열이 정렬되어 있어야만 사용할 수 있기 때문에, 배열의 구성이나 삽입, 삭제 등의 연산에 대한 비용이 높은 경우에는 유용하지 않을 수 있습니다.\n",
    "\n",
    "선형탐색의 경우 시간복잡도가 O(N)이고 이진 탐색의 시간복잡도는 O(NlogN)인데 왜 시간이 더 많이 걸리는 이진탐색이 좋다고 할 수 있냐?\n",
    "\n",
    "한번만 탐색을 하는 경우 선형탐색이 더 유리할 수 있다. 예를 들어 사전에서 단어 하나만 찾는경우 선형탐색이 더 적게 걸릴 수도 있다.\n",
    "\n",
    "하지만 탐색을 여러번 해야하는 경우 이진탐색은 중간값을 비교해 한쪽을 버리기 때문에 탐색횟수가 많을 경우 시간복잡도상으로 이진 탐색이 유리하다\n",
    "\n",
    "선형탐색 N번 : O(N) * N = O(N^2)\n",
    "\n",
    "이진탐색 N번 : NlogN + NlogN = NlogN\n",
    "\n",
    "데이터 값이 커져도 시간복잡도가 NlogN으로 유지된다"
   ]
  },
  {
   "cell_type": "code",
   "execution_count": 5,
   "metadata": {},
   "outputs": [
    {
     "name": "stdout",
     "output_type": "stream",
     "text": [
      "number of 3: 2\n",
      "number of 4: 0\n",
      "number of 6: 2\n"
     ]
    }
   ],
   "source": [
    "from bisect import bisect_left, bisect_right\n",
    "\n",
    "v = (0, 1, 3, 3, 6, 6, 7, 7, 8, 9, 10)\n",
    "three = bisect_right(v,3) - bisect_left(v,3)\n",
    "four = bisect_right(v,4) - bisect_left(v,4)\n",
    "six = bisect_right(v,6) - bisect_left(v,6)\n",
    "\n",
    "print(f'number of 3: {three}')\n",
    "print(f'number of 4: {four}')\n",
    "print(f'number of 6: {six}')"
   ]
  },
  {
   "attachments": {},
   "cell_type": "markdown",
   "metadata": {},
   "source": [
    "개발자들에게도 이진탐색을 구현하는건 쉽지 않다고 함"
   ]
  },
  {
   "cell_type": "code",
   "execution_count": 4,
   "metadata": {},
   "outputs": [
    {
     "data": {
      "text/plain": [
       "2"
      ]
     },
     "execution_count": 4,
     "metadata": {},
     "output_type": "execute_result"
    }
   ],
   "source": [
    "def binary_search(arr, target):\n",
    "    start, end = 0, len(arr)-1\n",
    "    \n",
    "    while start <= end:\n",
    "        mid = (start + end) // 2\n",
    "        \n",
    "        if arr[mid] == target:\n",
    "            return mid\n",
    "        \n",
    "        elif arr[mid] > target:\n",
    "            end = mid - 1\n",
    "        \n",
    "        else:\n",
    "            start = mid + 1\n",
    "    \n",
    "    return -1  # 찾는 값이 없을 경우 -1을 반환\n",
    "\n",
    "binary_search(v, 3)"
   ]
  },
  {
   "attachments": {},
   "cell_type": "markdown",
   "metadata": {},
   "source": [
    "**파라메트릭 서치**\n",
    "\n",
    "최적화 문제를 결정 문제로 바꿔서 이진탐색으로 푸는 방법\n",
    "\n",
    "최적화 문제는 문제상황을 만족하는 변수의 최솟값, 최댓값을 구하는 문제\n",
    "\n",
    "결정 문제는 예/아니요의 문제\n",
    "\n",
    "Q. 학생들의 외모값과 커플/솔로 여부가 주어진다. 커플들은 솔로보다 외모값이 높다. 외모값이 최소 몇 이상부터 커플인가?\n",
    "\n",
    "경계선을 찾는 문제에서 주로 사용 : 파라미터가 주어진 상황에서 T/F를 결정\n",
    "\n",
    "매개변수가 주어지면 T/F가 결정되어야 한다\n",
    "\n",
    "가능한 해의 영역이 연속적이어야 한다\n",
    "\n",
    "범위를 반씩 줄여가면서 가운데 값이 T인지 F인지 구한다\n",
    "\n",
    "\n"
   ]
  },
  {
   "attachments": {},
   "cell_type": "markdown",
   "metadata": {},
   "source": [
    "**2512 예산**\n",
    "\n",
    "국가의 역할 중 하나는 여러 지방의 예산요청을 심사하여 국가의 예산을 분배하는 것이다. 국가예산의 총액은 미리 정해져 있어서 모든 예산요청을 배정해 주기는 어려울 수도 있다. 그래서 정해진 총액 이하에서 가능한 한 최대의 총 예산을 다음과 같은 방법으로 배정한다.\n",
    "\n",
    "모든 요청이 배정될 수 있는 경우에는 요청한 금액을 그대로 배정한다.\n",
    "모든 요청이 배정될 수 없는 경우에는 특정한 정수 상한액을 계산하여 그 이상인 예산요청에는 모두 상한액을 배정한다. 상한액 이하의 예산요청에 대해서는 요청한 금액을 그대로 배정한다. \n",
    "예를 들어, 전체 국가예산이 485이고 4개 지방의 예산요청이 각각 120, 110, 140, 150이라고 하자. 이 경우, 상한액을 127로 잡으면, 위의 요청들에 대해서 각각 120, 110, 127, 127을 배정하고 그 합이 484로 가능한 최대가 된다. \n",
    "\n",
    "여러 지방의 예산요청과 국가예산의 총액이 주어졌을 때, 위의 조건을 모두 만족하도록 예산을 배정하는 프로그램을 작성하시오.\n",
    "\n",
    "첫째 줄에는 지방의 수를 의미하는 정수 N이 주어진다. N은 3 이상 10,000 이하이다. 다음 줄에는 각 지방의 예산요청을 표현하는 N개의 정수가 빈칸을 사이에 두고 주어진다. 이 값들은 모두 1 이상 100,000 이하이다. 그 다음 줄에는 총 예산을 나타내는 정수 M이 주어진다. M은 N 이상 1,000,000,000 이하이다. "
   ]
  },
  {
   "cell_type": "code",
   "execution_count": 10,
   "metadata": {},
   "outputs": [
    {
     "name": "stdout",
     "output_type": "stream",
     "text": [
      "low: 0, mid: 75, high: 150\n",
      "low: 76, mid: 113, high: 150\n",
      "low: 114, mid: 132, high: 150\n",
      "low: 114, mid: 122, high: 131\n",
      "low: 123, mid: 127, high: 131\n",
      "low: 128, mid: 129, high: 131\n",
      "low: 130, mid: 130, high: 131\n",
      "low: 131, mid: 131, high: 131\n",
      "130\n"
     ]
    }
   ],
   "source": [
    "N = int(input())\n",
    "req = list(map(int, input().split()))\n",
    "M = int(input())\n",
    "\n",
    "# 탐색범위\n",
    "low = 0 #최소범위\n",
    "high = max(req) #요청금액중 최대\n",
    "mid = (low+high)//2 #최소와 최대의 중간\n",
    "ans = 0 #가능한 최대치의 예산한도\n",
    "\n",
    "# 전체 예산을 더했을때 국가 총예산 안에 있을때 True 반환 \n",
    "def is_possible(mid):\n",
    "    return sum(min(r, mid) for r in req) <= M\n",
    "\n",
    "while low <= high:\n",
    "    print(f'low: {low}, mid: {mid}, high: {high}')\n",
    "    if is_possible(mid):\n",
    "        # 최소범위를 중간+1 정도로 높혀서 탐색\n",
    "        low = mid + 1\n",
    "        ans = mid\n",
    "    else:\n",
    "        # 최대값을 중간-1로 낮춰서 다시 탐색\n",
    "        high = mid-1\n",
    "\n",
    "    mid = (low + high)//2\n",
    "\n",
    "print(ans)\n"
   ]
  },
  {
   "cell_type": "code",
   "execution_count": 9,
   "metadata": {},
   "outputs": [
    {
     "name": "stdout",
     "output_type": "stream",
     "text": [
      "110\n"
     ]
    }
   ],
   "source": [
    "n = int(input()) # 지방의 개수\n",
    "budgets = list(map(int, input().split())) # 각 지방이 요청한 예산 목록\n",
    "total_budget = int(input()) # 예산 총액\n",
    "\n",
    "left = 0 # 상한액의 최솟값\n",
    "right = max(budgets) # 상한액의 최댓값\n",
    "\n",
    "while left <= right: # 상한액의 범위가 남아있을 때까지 반복\n",
    "    mid = (left + right) // 2 # 상한액의 중간값\n",
    "    sum_budgets = 0 # 상한액을 이용하여 배정될 예산의 총합\n",
    "\n",
    "    # 상한액을 이용하여 각 지방에 배정될 예산을 계산하고 총합을 구함\n",
    "    for budget in budgets:\n",
    "        sum_budgets += min(budget, mid)\n",
    "    \n",
    "    # 예산 총합이 제한된 예산을 초과하는 경우 상한액의 범위를 낮춤\n",
    "    if sum_budgets > total_budget:\n",
    "        right = mid - 1\n",
    "    \n",
    "    # 그렇지 않은 경우 상한액의 범위를 높임\n",
    "    else:\n",
    "        left = mid + 1\n",
    "\n",
    "print(right) # 최대 상한액 출력\n"
   ]
  },
  {
   "attachments": {},
   "cell_type": "markdown",
   "metadata": {},
   "source": [
    "완전탐색으로 풀어본 문제"
   ]
  },
  {
   "cell_type": "code",
   "execution_count": 8,
   "metadata": {},
   "outputs": [
    {
     "name": "stdout",
     "output_type": "stream",
     "text": [
      "100\n"
     ]
    }
   ],
   "source": [
    "n = int(input()) # 지방의 개수\n",
    "budgets = list(map(int, input().split())) # 각 지방이 요청한 예산 목록\n",
    "total_budget = int(input()) # 예산 총액\n",
    "\n",
    "max_budget = max(budgets) # 각 지방이 요청한 예산 중 최대값을 구함\n",
    "answer = 0 # 상한액의 최댓값을 저장할 변수\n",
    "\n",
    "# 가능한 모든 상한액을 대입하여 예산 총합을 계산\n",
    "for limit in range(1, max_budget + 1):\n",
    "    sum_budgets = 0 # 상한액을 이용하여 배정될 예산의 총합\n",
    "    for budget in budgets:\n",
    "        sum_budgets += min(budget, limit)\n",
    "    # 예산 총액을 초과하지 않는 최대 상한액을 구함\n",
    "    if sum_budgets <= total_budget:\n",
    "        answer = limit\n",
    "\n",
    "print(answer) # 최대 상한액 출력\n"
   ]
  },
  {
   "attachments": {},
   "cell_type": "markdown",
   "metadata": {},
   "source": [
    "**10815 숫자카드**\n",
    "\n",
    "숫자 카드는 정수 하나가 적혀져 있는 카드이다. 상근이는 숫자 카드 N개를 가지고 있다. 정수 M개가 주어졌을 때, 이 수가 적혀있는 숫자 카드를 상근이가 가지고 있는지 아닌지를 구하는 프로그램을 작성하시오.\n",
    "\n",
    "첫째 줄에 상근이가 가지고 있는 숫자 카드의 개수 N(1 ≤ N ≤ 500,000)이 주어진다. 둘째 줄에는 숫자 카드에 적혀있는 정수가 주어진다. 숫자 카드에 적혀있는 수는 -10,000,000보다 크거나 같고, 10,000,000보다 작거나 같다. 두 숫자 카드에 같은 수가 적혀있는 경우는 없다.\n",
    "\n",
    "셋째 줄에는 M(1 ≤ M ≤ 500,000)이 주어진다. 넷째 줄에는 상근이가 가지고 있는 숫자 카드인지 아닌지를 구해야 할 M개의 정수가 주어지며, 이 수는 공백으로 구분되어져 있다. 이 수도 -10,000,000보다 크거나 같고, 10,000,000보다 작거나 같다"
   ]
  },
  {
   "cell_type": "code",
   "execution_count": 26,
   "metadata": {},
   "outputs": [
    {
     "name": "stdout",
     "output_type": "stream",
     "text": [
      "[-10, 2, 3, 6, 10]\n",
      "[10, 9, -5, 2, 3, 4, 5, -10]\n",
      "1 0 0 1 1 0 0 1\n"
     ]
    }
   ],
   "source": [
    "from bisect import bisect_left, bisect_right\n",
    "\n",
    "N = 5\n",
    "cards = [6, 3, 2, 10, -10]\n",
    "M = 8\n",
    "check = [10, 9, -5, 2, 3, 4, 5, -10]\n",
    "\n",
    "cards.sort()\n",
    "print(cards)\n",
    "print(check)\n",
    "ans = []\n",
    "for c in check:\n",
    "    # 왼쪽에서 봤을때 몇번째에 있는지\n",
    "    l = bisect_left(cards, c)\n",
    "    # 오른쪽에서 봤을때 몇번째에 있는지\n",
    "    r = bisect_right(cards, c)\n",
    "    # bisect_right 없이 알아내는 방법도 있다. l위치에 카드가 있다면 알수있다.\n",
    "    #if cards[l] == c: \n",
    "\n",
    "    # r - l이 0보다크면 실제로 있는카드, 0보다 작으면 없는 카드\n",
    "    if r - l > 0:\n",
    "        ans.append(1)\n",
    "    else:\n",
    "        ans.append(0)\n",
    "\n",
    "print(*ans)"
   ]
  },
  {
   "cell_type": "code",
   "execution_count": null,
   "metadata": {},
   "outputs": [],
   "source": []
  }
 ],
 "metadata": {
  "kernelspec": {
   "display_name": "ML",
   "language": "python",
   "name": "python3"
  },
  "language_info": {
   "codemirror_mode": {
    "name": "ipython",
    "version": 3
   },
   "file_extension": ".py",
   "mimetype": "text/x-python",
   "name": "python",
   "nbconvert_exporter": "python",
   "pygments_lexer": "ipython3",
   "version": "3.8.16"
  },
  "orig_nbformat": 4
 },
 "nbformat": 4,
 "nbformat_minor": 2
}
