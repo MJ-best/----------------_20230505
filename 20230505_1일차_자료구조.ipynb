{
 "cells": [
  {
   "cell_type": "code",
   "execution_count": 3,
   "metadata": {},
   "outputs": [
    {
     "name": "stdout",
     "output_type": "stream",
     "text": [
      "34 342\n",
      "376\n"
     ]
    }
   ],
   "source": [
    "a, b = map(int, input().split())\n",
    "print(a, b)\n",
    "print(a+b)"
   ]
  },
  {
   "cell_type": "code",
   "execution_count": 4,
   "metadata": {},
   "outputs": [
    {
     "data": {
      "text/plain": [
       "12"
      ]
     },
     "execution_count": 4,
     "metadata": {},
     "output_type": "execute_result"
    }
   ],
   "source": [
    "arr = [10, 11, 12, 13, 14]\n",
    "arr[2]"
   ]
  },
  {
   "cell_type": "code",
   "execution_count": 5,
   "metadata": {},
   "outputs": [
    {
     "data": {
      "text/plain": [
       "[10, 11, 12, 13, 14, 15]"
      ]
     },
     "execution_count": 5,
     "metadata": {},
     "output_type": "execute_result"
    }
   ],
   "source": [
    "arr.append(15)\n",
    "arr"
   ]
  },
  {
   "attachments": {},
   "cell_type": "markdown",
   "metadata": {},
   "source": [
    "**연결리스트**\n",
    "\n",
    "클래스를 사용하여 노드를 만들고 이들 노드를 서로 연결해주는 방식을 사용합니다. 각 노드는 데이터와 다음 노드를 가리키는 포인터를 가지고 있습니다. 이렇게 노드들이 서로 연결되면 연결리스트가 만들어집니다."
   ]
  },
  {
   "cell_type": "code",
   "execution_count": 6,
   "metadata": {},
   "outputs": [],
   "source": [
    "class Node:\n",
    "    def __init__(self, data):\n",
    "        self.data = data\n",
    "        self.next = None\n",
    "\n",
    "class LinkedList:\n",
    "    def __init__(self):\n",
    "        self.head = None\n",
    "\n",
    "    def add_node(self, data):\n",
    "        new_node = Node(data)\n",
    "        if self.head is None:\n",
    "            self.head = new_node\n",
    "        else:\n",
    "            current_node = self.head\n",
    "            while current_node.next is not None:\n",
    "                current_node = current_node.next\n",
    "            current_node.next = new_node\n",
    "\n",
    "    def print_list(self):\n",
    "        current_node = self.head\n",
    "        while current_node is not None:\n",
    "            print(current_node.data)\n",
    "            current_node = current_node.next"
   ]
  },
  {
   "cell_type": "code",
   "execution_count": 7,
   "metadata": {},
   "outputs": [
    {
     "name": "stdout",
     "output_type": "stream",
     "text": [
      "1\n",
      "2\n",
      "3\n"
     ]
    }
   ],
   "source": [
    "linked_list = LinkedList()\n",
    "\n",
    "linked_list.add_node(1)\n",
    "linked_list.add_node(2)\n",
    "linked_list.add_node(3)\n",
    "\n",
    "linked_list.print_list()"
   ]
  },
  {
   "attachments": {},
   "cell_type": "markdown",
   "metadata": {},
   "source": [
    "**스택**\n",
    "\n",
    "먼저 들어간게 제일 나중에 나가고 (FILO), 나중에 들어간게 제일 먼저 나간다 (LIFO) (ex. 웹브라우저 뒤로가기)\n"
   ]
  },
  {
   "cell_type": "code",
   "execution_count": 8,
   "metadata": {},
   "outputs": [
    {
     "name": "stdout",
     "output_type": "stream",
     "text": [
      "[1, 2]\n",
      "3\n"
     ]
    }
   ],
   "source": [
    "stack = []\n",
    "\n",
    "# push 연산\n",
    "stack.append(1)\n",
    "stack.append(2)\n",
    "stack.append(3)\n",
    "\n",
    "# pop 연산\n",
    "top = stack.pop()  # top 변수에는 3이 저장됩니다.\n",
    "print(stack)\n",
    "print(top)"
   ]
  },
  {
   "cell_type": "code",
   "execution_count": 9,
   "metadata": {},
   "outputs": [
    {
     "name": "stdout",
     "output_type": "stream",
     "text": [
      "[1, 2, 3]\n",
      "마지막에 들어간 3이 출력된다 : 3\n"
     ]
    }
   ],
   "source": [
    "#근데 이게 굳이 의미가 없는데 파이썬은 리스트가 강력해\n",
    "s = []\n",
    "s.append(1)\n",
    "s.append(2)\n",
    "s.append(3)\n",
    "\n",
    "t = s[-1]\n",
    "\n",
    "print(s)\n",
    "print(\"마지막에 들어간 3이 출력된다 :\", t)"
   ]
  },
  {
   "attachments": {},
   "cell_type": "markdown",
   "metadata": {},
   "source": [
    "**큐**\n",
    "\n",
    "처음에 들어간게 처음나가고 (FIFO) 나중에 들어간게 나중에 나간다 (LILO) (ex. 운영체제에서의 작업리스트)"
   ]
  },
  {
   "cell_type": "code",
   "execution_count": 10,
   "metadata": {},
   "outputs": [
    {
     "name": "stdout",
     "output_type": "stream",
     "text": [
      "처음들어간 순서대로 출력된다\n",
      "1\n",
      "2\n",
      "3\n",
      "4\n",
      "5\n",
      "6\n",
      "7\n",
      "8\n",
      "9\n",
      "10\n"
     ]
    }
   ],
   "source": [
    "import queue\n",
    "\n",
    "q = queue.Queue()\n",
    "\n",
    "for i in range(1,11):\n",
    "    q.put(i)\n",
    "\n",
    "print(\"처음들어간 순서대로 출력된다\")\n",
    "while not q.empty():\n",
    "    print(q.get())"
   ]
  },
  {
   "attachments": {},
   "cell_type": "markdown",
   "metadata": {},
   "source": [
    "**우선순위 큐 Priority Queue (Heap)**\n",
    "\n",
    "힙을 이용한 구현에서는 삭제 연산과 삽입 연산 모두 O(log n)의 시간 복잡도를 가지므로, 배열을 이용한 구현보다 효율적입니다. 또한, 힙은 이진트리이므로 삽입과 삭제가 일어나도 항상 완전 이진트리의 형태를 유지하기 때문에, 삽입과 삭제 연산에서도 데이터의 이동이 최소화되어 성능이 우수합니다. 최상단 루트에는 항상 최소값이 위치하게 됩니다.\n"
   ]
  },
  {
   "cell_type": "code",
   "execution_count": 11,
   "metadata": {},
   "outputs": [
    {
     "name": "stdout",
     "output_type": "stream",
     "text": [
      "[-10, 1, 33, 312, 16]\n",
      "최상단 노드에는 항상 가장 최소값이 위치하게 됨 : -10\n"
     ]
    }
   ],
   "source": [
    "import heapq\n",
    "\n",
    "# 빈 리스트 생성\n",
    "pq = []\n",
    "\n",
    "# 값 추가\n",
    "heapq.heappush(pq, 312)\n",
    "heapq.heappush(pq, 1)\n",
    "heapq.heappush(pq, 33)\n",
    "heapq.heappush(pq, 16)\n",
    "heapq.heappush(pq, -10)\n",
    "\n",
    "print(pq)\n",
    "\n",
    "print(\"최상단 노드에는 항상 가장 최소값이 위치하게 됨 :\", pq[0])"
   ]
  },
  {
   "attachments": {},
   "cell_type": "markdown",
   "metadata": {},
   "source": [
    "**맵 Dictionary**\n",
    "\n",
    "Key와 Value값을 가지는 자료구조, C++에선 red-black tree구조로 구현되어있으며 O(logN) 파이썬에서는 hash로 구현되어 있다 O(1)"
   ]
  },
  {
   "cell_type": "code",
   "execution_count": 12,
   "metadata": {},
   "outputs": [
    {
     "name": "stdout",
     "output_type": "stream",
     "text": [
      "size : 3\n",
      "{'KIM': 100, 'LEE': 40, 'PARK': 60}\n"
     ]
    }
   ],
   "source": [
    "m = {}\n",
    "m['KIM'] = 100\n",
    "m['LEE'] = 40\n",
    "m['PARK'] = 60\n",
    "\n",
    "print(\"size :\", len(m))\n",
    "print(m)"
   ]
  },
  {
   "attachments": {},
   "cell_type": "markdown",
   "metadata": {},
   "source": [
    "**집합 Set**\n",
    "\n",
    "중복을 허용하지 않는다. 파이썬에서 마찬가지로 hash로 구현되어 있기때문에 O(1)"
   ]
  },
  {
   "cell_type": "code",
   "execution_count": 13,
   "metadata": {},
   "outputs": [
    {
     "name": "stdout",
     "output_type": "stream",
     "text": [
      "10이 중복해서 입력했지만 중복값을 없애버렸다 : {17, 10, 12, 15}\n"
     ]
    }
   ],
   "source": [
    "s = set()\n",
    "\n",
    "s.add(10)\n",
    "s.add(12)\n",
    "s.add(15)\n",
    "s.add(10)\n",
    "s.add(17)\n",
    "s.add(10)\n",
    "\n",
    "print(\"10이 중복해서 입력했지만 중복값을 없애버렸다 :\",s)"
   ]
  },
  {
   "attachments": {},
   "cell_type": "markdown",
   "metadata": {},
   "source": [
    "**9012. 괄호**\n",
    "\n",
    "괄호 문자열(Parenthesis String, PS)은 두 개의 괄호 기호인 ‘(’ 와 ‘)’ 만으로 구성되어 있는 문자열이다. 그 중에서 괄호의 모양이 바르게 구성된 문자열을 올바른 괄호 문자열(Valid PS, VPS)이라고 부른다. 한 쌍의 괄호 기호로 된 “( )” 문자열은 기본 VPS 이라고 부른다. 만일 x 가 VPS 라면 이것을 하나의 괄호에 넣은 새로운 문자열 “(x)”도 VPS 가 된다. 그리고 두 VPS x 와 y를 접합(concatenation)시킨 새로운 문자열 xy도 VPS 가 된다. 예를 들어 “(())()”와 “((()))” 는 VPS 이지만 “(()(”, “(())()))” , 그리고 “(()” 는 모두 VPS 가 아닌 문자열이다. \n",
    "\n",
    "여러분은 입력으로 주어진 괄호 문자열이 VPS 인지 아닌지를 판단해서 그 결과를 YES 와 NO 로 나타내어야 한다. \n",
    "\n",
    "입력 데이터는 표준 입력을 사용한다. 입력은 T개의 테스트 데이터로 주어진다. 입력의 첫 번째 줄에는 입력 데이터의 수를 나타내는 정수 T가 주어진다. 각 테스트 데이터의 첫째 줄에는 괄호 문자열이 한 줄에 주어진다. 하나의 괄호 문자열의 길이는 2 이상 50 이하이다. \n"
   ]
  },
  {
   "attachments": {},
   "cell_type": "markdown",
   "metadata": {},
   "source": [
    "어떤 자료구조를 사용해야 풀 수 있는 문제일까?\n",
    "\n",
    "올바른 괄호쌍을 찾는 문제 : 스택을 이용하는 문제!"
   ]
  },
  {
   "cell_type": "code",
   "execution_count": 14,
   "metadata": {},
   "outputs": [],
   "source": [
    "def VPS(data):\n",
    "    stk = []\n",
    "    for i in data:\n",
    "        if i == '(':\n",
    "            stk.append(i)\n",
    "        else:\n",
    "            if len(stk)== 0:\n",
    "                return print(\"NO\")\n",
    "        stk.pop()\n",
    "    if len(stk) == 0:\n",
    "        return print(\"YES\")\n",
    "    else:\n",
    "        return print(\"NO\")\n",
    "            \n"
   ]
  },
  {
   "cell_type": "code",
   "execution_count": 15,
   "metadata": {},
   "outputs": [
    {
     "name": "stdout",
     "output_type": "stream",
     "text": [
      "NO\n",
      "NO\n",
      "NO\n"
     ]
    }
   ],
   "source": [
    "VPS('6')\n",
    "VPS('(())())')\n",
    "VPS('(((()())()')\n",
    "\n"
   ]
  },
  {
   "cell_type": "code",
   "execution_count": 16,
   "metadata": {},
   "outputs": [],
   "source": [
    "def is_vps(ps):\n",
    "    stack = []  # 스택 초기화\n",
    "    for p in ps:\n",
    "        if p == '(':\n",
    "            stack.append(p)\n",
    "        else:\n",
    "            if not stack:  # 스택이 비어있는 경우\n",
    "                return print(\"N0\")\n",
    "            stack.pop()  # 짝이 맞는 경우 스택에서 꺼내기\n",
    "    if not stack:  # 스택이 비어있는 경우\n",
    "        return print(\"YES\")\n",
    "    else:\n",
    "        return print(\"NO\")"
   ]
  },
  {
   "cell_type": "code",
   "execution_count": 17,
   "metadata": {},
   "outputs": [
    {
     "name": "stdout",
     "output_type": "stream",
     "text": [
      "N0\n",
      "N0\n",
      "NO\n"
     ]
    }
   ],
   "source": [
    "is_vps('6')\n",
    "is_vps('(())())')\n",
    "is_vps('(((()())()')"
   ]
  },
  {
   "cell_type": "code",
   "execution_count": 18,
   "metadata": {},
   "outputs": [
    {
     "name": "stdout",
     "output_type": "stream",
     "text": [
      "NO\n",
      "NO\n",
      "NO\n",
      "NO\n",
      "NO\n",
      "NO\n"
     ]
    }
   ],
   "source": [
    "# 입력받은 괄호 문자열\n",
    "ps = input()\n",
    "\n",
    "# 스택으로 사용할 빈 리스트\n",
    "stack = []\n",
    "\n",
    "# 올바른 괄호 문자열인지 판단하는 변수\n",
    "valid = False\n",
    "\n",
    "# 괄호 문자열을 왼쪽부터 오른쪽으로 순서대로 읽는다.\n",
    "for p in ps:\n",
    "    # 현재 읽은 문자가 '('이면 스택에 push한다.\n",
    "    if p == '(':\n",
    "        stack.append(p)\n",
    "    # 현재 읽은 문자가 ')'이면 스택에서 pop을 시도한다.\n",
    "    elif p == ')':\n",
    "        # pop을 시도했을 때 스택이 비어있으면 올바르지 않은 괄호 문자열이다.\n",
    "        if len(stack) == 0:\n",
    "            valid = False\n",
    "            break\n",
    "        # pop을 시도했을 때 스택의 맨 위에 있는 데이터가 '('이면 pop을 성공적으로 수행한다.\n",
    "        elif stack[-1] == '(':\n",
    "            stack.pop()\n",
    "        # pop을 시도했을 때 스택의 맨 위에 있는 데이터가 '('이 아니면 올바르지 않은 괄호 문자열이다.\n",
    "        else:\n",
    "            valid = False\n",
    "            break\n",
    "\n",
    "# 모든 문자를 읽고 난 후에 스택이 비어있으면 올바른 괄호 문자열이고, 비어있지 않으면 올바르지 않은 괄호 문자열이다.\n",
    "    if len(stack) == 0 and valid == True:\n",
    "        print(\"YES\")\n",
    "    else:\n",
    "        print(\"NO\")"
   ]
  },
  {
   "cell_type": "code",
   "execution_count": 19,
   "metadata": {},
   "outputs": [
    {
     "name": "stdout",
     "output_type": "stream",
     "text": [
      "YES\n"
     ]
    }
   ],
   "source": [
    "for i in range(len(input())):\n",
    "    stk = []\n",
    "    isVPS = True\n",
    "    for ch in input():\n",
    "        if ch == '(':\n",
    "            stk.append(ch)\n",
    "        else:\n",
    "            if stk:\n",
    "                stk.pop()\n",
    "            else:\n",
    "                isVPS = False\n",
    "                break\n",
    "    if stk:\n",
    "        isVPS = False\n",
    "\n",
    "    print('YES' if isVPS else 'NO')\n",
    "    break"
   ]
  },
  {
   "attachments": {},
   "cell_type": "markdown",
   "metadata": {},
   "source": [
    "**2164 카드2**\n",
    "\n",
    "N장의 카드가 있다. 각각의 카드는 차례로 1부터 N까지의 번호가 붙어 있으며, 1번 카드가 제일 위에, N번 카드가 제일 아래인 상태로 순서대로 카드가 놓여 있다.\n",
    "\n",
    "이제 다음과 같은 동작을 카드가 한 장 남을 때까지 반복하게 된다. 우선, 제일 위에 있는 카드를 바닥에 버린다. 그 다음, 제일 위에 있는 카드를 제일 아래에 있는 카드 밑으로 옮긴다.\n",
    "\n",
    "예를 들어 N=4인 경우를 생각해 보자. 카드는 제일 위에서부터 1234 의 순서로 놓여있다. 1을 버리면 234가 남는다. 여기서 2를 제일 아래로 옮기면 342가 된다. 3을 버리면 42가 되고, 4를 밑으로 옮기면 24가 된다. 마지막으로 2를 버리고 나면, 남는 카드는 4가 된다.\n",
    "\n",
    "N이 주어졌을 때, 제일 마지막에 남게 되는 카드를 구하는 프로그램을 작성하시오.\n",
    "\n",
    "---\n",
    "\n",
    "처음들어온게 처음 나가므로 큐 자료구조를 생각할 수 있다\n"
   ]
  },
  {
   "cell_type": "code",
   "execution_count": 37,
   "metadata": {},
   "outputs": [
    {
     "data": {
      "text/plain": [
       "[475712]"
      ]
     },
     "execution_count": 37,
     "metadata": {},
     "output_type": "execute_result"
    }
   ],
   "source": [
    "N = 500000\n",
    "dack = []\n",
    "# 카드 덱을 만든다\n",
    "for i in range(N):\n",
    "    dack.append(i+1)\n",
    "\n",
    "for i in range(N-1):\n",
    "# 맨 위의 카드를 제거\n",
    "    del dack[0]\n",
    "# 두번째 있던 카드를 맨 뒤에 붙여넣기\n",
    "    dack.append(dack[0])\n",
    "# 두번째 있던 카드 제거\n",
    "    del dack[0]\n",
    "\n",
    "dack"
   ]
  },
  {
   "attachments": {},
   "cell_type": "markdown",
   "metadata": {},
   "source": [
    "삽입 삭제의 시간복잡도는 O(N) -> N-1번 반복 -> 총 시간 복잡도 O(N^2)\n",
    "\n",
    "문제에서 주어진 최대 N = 500,000으로 계산해본 결과 시간이 35.8초 소요\n",
    "\n",
    "큐의 삽입 삭제 시간복잡도는 O(1) -> N-1번 반복 -> 총 시간 복잡도 O(N)\n",
    "\n",
    "큐를 사용했을 때에는 0초 소요"
   ]
  },
  {
   "cell_type": "code",
   "execution_count": 8,
   "metadata": {},
   "outputs": [
    {
     "data": {
      "text/plain": [
       "475712"
      ]
     },
     "execution_count": 8,
     "metadata": {},
     "output_type": "execute_result"
    }
   ],
   "source": [
    "from collections import deque\n",
    "\n",
    "N=500000\n",
    "dq = deque(range(1,N+1))\n",
    "\n",
    "while len(dq) > 1:\n",
    "    dq.popleft()\n",
    "    dq.append(dq.popleft())\n",
    "\n",
    "dq[0]"
   ]
  },
  {
   "cell_type": "code",
   "execution_count": 9,
   "metadata": {},
   "outputs": [
    {
     "data": {
      "text/plain": [
       "475712"
      ]
     },
     "execution_count": 9,
     "metadata": {},
     "output_type": "execute_result"
    }
   ],
   "source": [
    "N=500000\n",
    "dq = deque(range(1,N+1))\n",
    "\n",
    "for i in range(N-1):\n",
    "    dq.popleft()\n",
    "    dq.append(dq.popleft())\n",
    "\n",
    "dq[0]"
   ]
  },
  {
   "attachments": {},
   "cell_type": "markdown",
   "metadata": {},
   "source": [
    "**11286. 절댓값 힙**\n",
    "\n",
    "절댓값 힙은 다음과 같은 연산을 지원하는 자료구조이다.\n",
    "\n",
    "배열에 정수 x (x ≠ 0)를 넣는다.\n",
    "배열에서 절댓값이 가장 작은 값을 출력하고, 그 값을 배열에서 제거한다. 절댓값이 가장 작은 값이 여러개일 때는, 가장 작은 수를 출력하고, 그 값을 배열에서 제거한다.\n",
    "프로그램은 처음에 비어있는 배열에서 시작하게 된다.\n",
    "\n",
    "첫째 줄에 연산의 개수 N(1≤N≤100,000)이 주어진다. 다음 N개의 줄에는 연산에 대한 정보를 나타내는 정수 x가 주어진다. 만약 x가 0이 아니라면 배열에 x라는 값을 넣는(추가하는) 연산이고, x가 0이라면 배열에서 절댓값이 가장 작은 값을 출력하고 그 값을 배열에서 제거하는 경우이다. 입력되는 정수는 -231보다 크고, 231보다 작다.\n",
    "\n",
    "---\n",
    "\n",
    "힙에서는 최소값이 최상단에 위치하게 되므로 자료구조는 힙으로 구성할 수 있겠다"
   ]
  },
  {
   "cell_type": "code",
   "execution_count": 37,
   "metadata": {},
   "outputs": [
    {
     "name": "stdout",
     "output_type": "stream",
     "text": [
      "-1\n",
      "1\n",
      "0\n",
      "-1\n",
      "-1\n",
      "1\n",
      "1\n",
      "-2\n",
      "-2\n"
     ]
    }
   ],
   "source": [
    "import heapq as hq\n",
    "\n",
    "N = int(input())\n",
    "pq = []\n",
    "for _ in range(N):\n",
    "    x = int(input())\n",
    "    if x:\n",
    "        hq.heappush(pq, (abs(x), x))\n",
    "    else:\n",
    "        if pq:\n",
    "            print(hq.heappop(pq)[1])\n",
    "        else:\n",
    "            print(0)\n"
   ]
  },
  {
   "attachments": {},
   "cell_type": "markdown",
   "metadata": {},
   "source": [
    "**1302. 베스트 셀러**\n",
    "\n",
    "김형택은 탑문고의 직원이다. 김형택은 계산대에서 계산을 하는 직원이다. 김형택은 그날 근무가 끝난 후에, 오늘 판매한 책의 제목을 보면서 가장 많이 팔린 책의 제목을 칠판에 써놓는 일도 같이 하고 있다.\n",
    "\n",
    "오늘 하루 동안 팔린 책의 제목이 입력으로 들어왔을 때, 가장 많이 팔린 책의 제목을 출력하는 프로그램을 작성하시오.\n",
    "\n",
    "첫째 줄에 오늘 하루 동안 팔린 책의 개수 N이 주어진다. 이 값은 1,000보다 작거나 같은 자연수이다. 둘째부터 N개의 줄에 책의 제목이 입력으로 들어온다. 책의 제목의 길이는 50보다 작거나 같고, 알파벳 소문자로만 이루어져 있다.\n",
    "\n",
    "---\n",
    "\n",
    "무슨 자료구조? \n",
    "\n",
    "어떤 책이 몇번 팔렸다라는 정보를 저장해야겠지?\n",
    "딕셔너리를 이용하는게 좋겠다!"
   ]
  },
  {
   "cell_type": "code",
   "execution_count": 46,
   "metadata": {},
   "outputs": [
    {
     "name": "stdout",
     "output_type": "stream",
     "text": [
      "a\n"
     ]
    }
   ],
   "source": [
    "d = dict()\n",
    "N = int(input())\n",
    "\n",
    "for _ in range(N):\n",
    "    book = input()\n",
    "    if book in d:\n",
    "        d[book] += 1\n",
    "    else:\n",
    "        d[book] = 1\n",
    "\n",
    "max_book = max(d.values())\n",
    "candidate = []\n",
    "for key, value in d.items():\n",
    "    if value == max_book:\n",
    "        candidate.append(key)\n",
    "\n",
    "candidate.sort()\n",
    "print(candidate[0])"
   ]
  },
  {
   "attachments": {},
   "cell_type": "markdown",
   "metadata": {},
   "source": [
    "자료구조\n",
    "- array\n",
    "- stack\n",
    "- queue\n",
    "- priority_queue\n",
    "- dictionary\n",
    "- set"
   ]
  },
  {
   "cell_type": "code",
   "execution_count": null,
   "metadata": {},
   "outputs": [],
   "source": []
  }
 ],
 "metadata": {
  "kernelspec": {
   "display_name": "ML",
   "language": "python",
   "name": "python3"
  },
  "language_info": {
   "codemirror_mode": {
    "name": "ipython",
    "version": 3
   },
   "file_extension": ".py",
   "mimetype": "text/x-python",
   "name": "python",
   "nbconvert_exporter": "python",
   "pygments_lexer": "ipython3",
   "version": "3.8.16"
  },
  "orig_nbformat": 4
 },
 "nbformat": 4,
 "nbformat_minor": 2
}
