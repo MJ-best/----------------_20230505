{
 "cells": [
  {
   "attachments": {},
   "cell_type": "markdown",
   "metadata": {},
   "source": [
    "## 동적계획법 Dynamic Programming\n",
    "\n",
    "문제를 쪼개서 작은 문제의 답을 구하고, 그걸로 더 큰 문제의 답을 구하는 걸 반복한다\n",
    "\n",
    "분할정복과 비슷한 느낌\n",
    "\n",
    "복잡한 문제를 간단한 여러 개의 하위 문제(Subproblems)로 나누어 푸는 알고리즘 기법입니다. 여러 번 반복되는 연산을 캐싱하여 중복 계산을 피하고, 메모리를 이용해 이미 계산한 결과를 저장해 놓고 재사용하는 방식을 취합니다.\n",
    "\n",
    "DP 알고리즘은 다음의 두 가지 조건을 만족해야 합니다.\n",
    "\n",
    "- 최적 부분 구조(Optimal Substructure)\n",
    "\n",
    "큰 문제를 작은 문제로 나눌 수 있으며, 작은 문제의 최적 해를 이용하여 큰 문제의 최적 해를 구할 수 있다.\n",
    "\n",
    "- 중복되는 부분 문제(Overlapping Subproblems)\n",
    "\n",
    "동일한 작은 문제를 반복적으로 해결해야 하는 경우, 이를 한 번만 계산하고 메모리에 저장하여 중복 계산을 피할 수 있다.\n",
    "대표적인 DP 문제로는 피보나치 수열, 배낭 문제, 최장 공통 부분 문자열 등이 있습니다. \n",
    "\n",
    "- Top-down : 재귀 + 메모이제이션\n",
    "\n",
    "한번 구한 답들은 저장해두자 > 메모이제이션, 부분문제들의 답을 한번 구했으면 또 구하지 않도록 캐시에 저장해두고 가져다쓰자\n",
    "\n",
    "직관적이라 코드 가독성이 좋다\n",
    "\n",
    "재귀함수 호출을 많이 해서 느릴 수 있다\n",
    "\n",
    "- Bottom-up : 반복문 + 타뷸레이션\n",
    "\n",
    "미리 다 구해두자 > 타뷸레이션, 테이블을 채워나간다는 의미\n",
    "\n",
    "필요없는 부분 문제들까지 전부 구한다\n",
    "\n",
    "시간과 메모리를 좀더 아낄 수도 있다\n",
    "\n",
    "DP테이블을 채워나가는 순거를 알아야한다"
   ]
  },
  {
   "attachments": {},
   "cell_type": "markdown",
   "metadata": {},
   "source": [
    "## 2748 피보나치 수 2\n",
    "\n",
    "피보나치 수는 0과 1로 시작한다. 0번째 피보나치 수는 0이고, 1번째 피보나치 수는 1이다. 그 다음 2번째 부터는 바로 앞 두 피보나치 수의 합이 된다.\n",
    "\n",
    "이를 식으로 써보면 Fn = Fn-1 + Fn-2 (n ≥ 2)가 된다.\n",
    "\n",
    "n=17일때 까지 피보나치 수를 써보면 다음과 같다.\n",
    "\n",
    "0, 1, 1, 2, 3, 5, 8, 13, 21, 34, 55, 89, 144, 233, 377, 610, 987, 1597\n",
    "\n",
    "n이 주어졌을 때, n번째 피보나치 수를 구하는 프로그램을 작성하시오.\n"
   ]
  },
  {
   "cell_type": "code",
   "execution_count": 13,
   "metadata": {},
   "outputs": [
    {
     "name": "stdout",
     "output_type": "stream",
     "text": [
      "102334155\n",
      "40번째 피보나치수를 위한 계산횟수 : 331160281\n"
     ]
    }
   ],
   "source": [
    "cnt = 0\n",
    "\n",
    "def f(n):\n",
    "    global cnt\n",
    "\n",
    "    cnt += 1\n",
    "    if n == 0:\n",
    "        return 0\n",
    "    elif n == 1:\n",
    "        return 1\n",
    "    return f(n-1) + f(n-2)\n",
    "\n",
    "N = int(input())\n",
    "print(f(N))\n",
    "print(f'{N}번째 피보나치수를 위한 계산횟수 : {cnt}')"
   ]
  },
  {
   "attachments": {},
   "cell_type": "markdown",
   "metadata": {},
   "source": [
    "메모이제이션이 없이 구현된 코드이기 때문에 호출하는 값이 너무 많아서 f의 호출이 매우 늦어지게 된다."
   ]
  },
  {
   "cell_type": "code",
   "execution_count": 11,
   "metadata": {},
   "outputs": [
    {
     "name": "stdout",
     "output_type": "stream",
     "text": [
      "832040\n",
      "30번째 피보나치수를 위한 계산횟수 : 59\n"
     ]
    }
   ],
   "source": [
    "cnt = 0\n",
    "cache = [-1] * 100000\n",
    "\n",
    "def f(n):\n",
    "    global cnt\n",
    "    cnt += 1\n",
    "\n",
    "    cache[0] = 0\n",
    "    cache[1] = 1\n",
    "    if cache[n] == -1:\n",
    "        cache[n] = f(n-1) + f(n-2)\n",
    "    return cache[n]\n",
    "N = int(input())\n",
    "print(f(N))\n",
    "print(f'{N}번째 피보나치수를 위한 계산횟수 : {cnt}')"
   ]
  },
  {
   "attachments": {},
   "cell_type": "markdown",
   "metadata": {},
   "source": [
    "메모이제이션을 적용하면 큰 숫자를 넣어도 바로 계산이 된다.\n",
    "\n",
    "메모이제이션을 사용하면 계산횟수가 획기적으로 줄어든다 (반복적인 계산값을 저장하기 때문에)\n",
    "\n",
    "아래코드는 반복문을 이용해서 구현 (Bottom-up 방식으로 구현)"
   ]
  },
  {
   "cell_type": "code",
   "execution_count": 24,
   "metadata": {},
   "outputs": [
    {
     "name": "stdout",
     "output_type": "stream",
     "text": [
      "2880067194370816120\n"
     ]
    }
   ],
   "source": [
    "N = int(input())\n",
    "cache = [-1]*91 #조건문을 위해 미리 배열을 만들어 놓음\n",
    "cache[0] = 0\n",
    "cache[1] = 1\n",
    "count = 0\n",
    "\n",
    "for i in range(2, N+1):\n",
    "    count += 1\n",
    "    cache[i] = cache[i-1] + cache[i-2]\n",
    "\n",
    "print(cache[N])"
   ]
  },
  {
   "attachments": {},
   "cell_type": "markdown",
   "metadata": {},
   "source": [
    "## 11051 이항정리 2\n",
    "\n",
    "문제에서는 n개의 서로 다른 원소 중에서 k개의 원소를 선택하는 경우의 수를 10,007로 나눈 나머지를 구하라고 합니다. 즉, 이항 계수를 구하는 문제이지만, 결과값에 10,007을 나눈 나머지를 출력해야 합니다."
   ]
  },
  {
   "cell_type": "code",
   "execution_count": 12,
   "metadata": {},
   "outputs": [
    {
     "name": "stdout",
     "output_type": "stream",
     "text": [
      "1377\n"
     ]
    }
   ],
   "source": [
    "N, K = map(int, input().split())\n",
    "\n",
    "cache = [[0]* (N+1) for _ in range(N+1)]\n",
    "\n",
    "def bino(n,k):\n",
    "    if cache[n][k]:\n",
    "        return cache[n][k]\n",
    "    \n",
    "    if k == 0 or k == n:\n",
    "        cache[n][k] = 1\n",
    "    else:\n",
    "        cache[n][k] = bino(n-1, k) + bino(n, k-1)\n",
    "    \n",
    "    return cache[n][k]\n",
    "\n",
    "print(bino(N, K))"
   ]
  },
  {
   "cell_type": "code",
   "execution_count": 9,
   "metadata": {},
   "outputs": [
    {
     "name": "stdout",
     "output_type": "stream",
     "text": [
      "252\n"
     ]
    }
   ],
   "source": [
    "n, k = map(int, input().split())\n",
    "cache = [[0] * (n+1) for _ in range(n+1)]\n",
    "MOD = 10007\n",
    "\n",
    "for i in range(n+1):\n",
    "    cache[i][0] = 1\n",
    "    cache[i][i] = 1\n",
    "\n",
    "for i in range(1, n+1):\n",
    "    for j in range(1, i):\n",
    "        cache[i][j] = (cache[i-1][j-1] + cache[i-1][j]) % MOD\n",
    "\n",
    "print(cache[n][k])"
   ]
  },
  {
   "cell_type": "code",
   "execution_count": null,
   "metadata": {},
   "outputs": [],
   "source": []
  }
 ],
 "metadata": {
  "kernelspec": {
   "display_name": "ML",
   "language": "python",
   "name": "python3"
  },
  "language_info": {
   "codemirror_mode": {
    "name": "ipython",
    "version": 3
   },
   "file_extension": ".py",
   "mimetype": "text/x-python",
   "name": "python",
   "nbconvert_exporter": "python",
   "pygments_lexer": "ipython3",
   "version": "3.8.16"
  },
  "orig_nbformat": 4
 },
 "nbformat": 4,
 "nbformat_minor": 2
}
