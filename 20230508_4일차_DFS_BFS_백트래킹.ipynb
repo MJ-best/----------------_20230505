{
 "cells": [
  {
   "attachments": {},
   "cell_type": "markdown",
   "metadata": {},
   "source": [
    "## 그래프 자료구조\n",
    "\n",
    "지도나 네비게이션, 지하철 노선도, SNS 관계도와 같은...! 자료구조\n",
    "\n",
    "그래프는 방향 그래프(Directed Graph)와 무방향 그래프(Undirected Graph)로 나눌 수 있습니다. 방향 그래프는 간선이 방향을 가지며 한 방향으로만 이동할 수 있는 그래프를 의미하고, 무방향 그래프는 간선이 방향을 가지지 않으며 양 방향으로 이동할 수 있는 그래프를 의미합니다.\n",
    "\n",
    "## 트리 자료구조\n",
    "\n",
    "순환성이 없는 무방향 그래프\n",
    "\n",
    "특정하지 않는 한 어떤 노드든지 루트가 될 수 있다\n",
    "\n",
    "가장 바깥쪽 노드는 리프노드\n",
    "\n",
    "노드 A에서 노드B로 가는 길이 반드시 있으며 유일하다\n",
    "\n",
    "노드개수 = 간선개수 + 1\n",
    "\n",
    "## 코드로 그래프를 나타내는 방법\n",
    "\n",
    "- 인접 행렬\n",
    "\n",
    "    1  2\n",
    "  --------\n",
    "1 | 0  1\n",
    "2 | 1  0\n",
    "\n",
    "위의 행렬에서 1행 2열과 2행 1열의 값이 1로 표시되어 있습니다. 이는 노드 1과 노드 2가 서로 연결되어 있음을 나타냅니다. 반면, 1행 1열과 2행 2열의 값은 0으로 표시되어 있습니다. 이는 노드 자기 자신과는 연결되어 있지 않음을 나타냅니다.\n",
    "\n",
    "인접 행렬을 이용하여 그래프 탐색을 수행할 때는 모든 인접한 노드를 방문해야 하므로 시간 복잡도가 높아질 수 있습니다. 이러한 단점을 보완하기 위해 인접 리스트(Adjacency List) 방식이 사용됩니다.\n",
    "\n",
    "- 인접 리스트(연결리스트)\n",
    "\n",
    "무방향 그래프는 양방향 그래프와 같으므로 그런 방식으로 구현하면 된다\n",
    "\n",
    "- 인접행렬 vs 인접리스트\n",
    "\n",
    "간선이 적을 수록 인접리스트가 메모리 측면에서 유리하다\n",
    "\n",
    "시간과 공간이 트레이드 오프관계! : \n",
    "메모리와 시간 간의 트레이드오프는 일반적으로 알고리즘과 자료구조를 설계할 때 고려해야 하는 중요한 문제입니다. 일반적으로, 더 적은 메모리를 사용하면 더 많은 계산이 필요하게 되고, 더 많은 메모리를 사용하면 계산 속도가 빨라지게 됩니다.\n",
    "\n",
    "\n",
    "\n",
    "인접행렬이 공간을 많이 쓰는 만큼 시간적으로 이득이있다. 임의접근이 가능하다! O(1)\n",
    "\n",
    "\n",
    "\n",
    "\n"
   ]
  },
  {
   "attachments": {},
   "cell_type": "markdown",
   "metadata": {},
   "source": [
    "## DFS 깊이 우선 탐색\n",
    "\n",
    "- 스택 or 재귀를 사용해서 구현한다"
   ]
  },
  {
   "cell_type": "code",
   "execution_count": 4,
   "metadata": {},
   "outputs": [
    {
     "name": "stdout",
     "output_type": "stream",
     "text": [
      "[1, 2, 5, 3, 6, 7, 4, 8]\n"
     ]
    }
   ],
   "source": [
    "# 인접 리스트로 그래프를 구현합니다.\n",
    "graph = {\n",
    "    1: [2, 3, 4],\n",
    "    2: [1, 5],\n",
    "    3: [1, 6, 7],\n",
    "    4: [1, 8],\n",
    "    5: [2],\n",
    "    6: [3],\n",
    "    7: [3],\n",
    "    8: [4]\n",
    "}\n",
    "\n",
    "# 방문한 노드를 저장할 리스트를 초기화합니다.\n",
    "visited = []\n",
    "\n",
    "# DFS 알고리즘을 구현합니다.\n",
    "def dfs(graph, start):\n",
    "    # 현재 노드를 방문한 것으로 표시하고, visited 리스트에 추가합니다.\n",
    "    visited.append(start)\n",
    "    # 현재 노드와 인접한 노드들을 방문합니다.\n",
    "    for node in graph[start]:\n",
    "        # 인접한 노드가 방문한 적이 없으면 재귀적으로 방문합니다.\n",
    "        if node not in visited:\n",
    "            dfs(graph, node)\n",
    "    \n",
    "# DFS 알고리즘을 시작합니다.\n",
    "dfs(graph, 1)\n",
    "# 방문한 노드를 출력합니다.\n",
    "print(visited)\n"
   ]
  },
  {
   "attachments": {},
   "cell_type": "markdown",
   "metadata": {},
   "source": [
    "## BFS 너비 우선 탐색\n",
    "\n",
    "큐를 사용해서 구현한다\n",
    "\n",
    "깊이우선 탐생이나 너비 우선 탐색이나 둘다 완전 탐색알고리즘\n",
    "\n",
    "하지만 탐색의 순서가 다르다는 차이점이 있다"
   ]
  },
  {
   "cell_type": "code",
   "execution_count": 5,
   "metadata": {},
   "outputs": [
    {
     "name": "stdout",
     "output_type": "stream",
     "text": [
      "[1, 2, 3, 4, 5, 6, 7, 8]\n"
     ]
    }
   ],
   "source": [
    "# 인접 리스트로 그래프를 구현합니다.\n",
    "graph = {\n",
    "    1: [2, 3, 4],\n",
    "    2: [1, 5],\n",
    "    3: [1, 6, 7],\n",
    "    4: [1, 8],\n",
    "    5: [2],\n",
    "    6: [3],\n",
    "    7: [3],\n",
    "    8: [4]\n",
    "}\n",
    "\n",
    "# 방문한 노드를 저장할 리스트를 초기화합니다.\n",
    "visited = []\n",
    "\n",
    "# BFS 알고리즘을 구현합니다.\n",
    "def bfs(graph, start):\n",
    "    # 큐에 시작 노드를 추가합니다.\n",
    "    queue = [start]\n",
    "    # 큐가 빌 때까지 반복합니다.\n",
    "    while queue:\n",
    "        # 큐의 첫 번째 노드를 꺼내옵니다.\n",
    "        node = queue.pop(0)\n",
    "        # 현재 노드가 방문한 적이 없으면 방문합니다.\n",
    "        if node not in visited:\n",
    "            visited.append(node)\n",
    "            # 인접한 노드들을 큐에 추가합니다.\n",
    "            queue.extend(graph[node])\n",
    "    \n",
    "# BFS 알고리즘을 시작합니다.\n",
    "bfs(graph, 1)\n",
    "# 방문한 노드를 출력합니다.\n",
    "print(visited)\n"
   ]
  },
  {
   "attachments": {},
   "cell_type": "markdown",
   "metadata": {},
   "source": [
    "DFS vs BFS\n",
    "\n",
    "공통점 : 그래프를 탐색하는 알고리즘, 완전탐색 > 반드시 답을 찾을 수 있다 / 느리다\n",
    "\n",
    "차이점 : 탐색 순서가 다르다. 최단거리 탐색에는 BFS를 사용\n",
    "\n",
    "인접행렬 O(V^2)\n",
    "\n",
    "인접리스트 O(V+E) : 간선갯수가 적으면 인접리스트가 유리하다"
   ]
  },
  {
   "cell_type": "code",
   "execution_count": null,
   "metadata": {},
   "outputs": [],
   "source": []
  }
 ],
 "metadata": {
  "kernelspec": {
   "display_name": "ML",
   "language": "python",
   "name": "python3"
  },
  "language_info": {
   "codemirror_mode": {
    "name": "ipython",
    "version": 3
   },
   "file_extension": ".py",
   "mimetype": "text/x-python",
   "name": "python",
   "nbconvert_exporter": "python",
   "pygments_lexer": "ipython3",
   "version": "3.8.16"
  },
  "orig_nbformat": 4
 },
 "nbformat": 4,
 "nbformat_minor": 2
}
