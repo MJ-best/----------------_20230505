{
  "nbformat": 4,
  "nbformat_minor": 0,
  "metadata": {
    "colab": {
      "provenance": [],
      "authorship_tag": "ABX9TyOx9ADTraXtloAKlKO+6YoH",
      "include_colab_link": true
    },
    "kernelspec": {
      "name": "python3",
      "display_name": "Python 3"
    },
    "language_info": {
      "name": "python"
    }
  },
  "cells": [
    {
      "cell_type": "markdown",
      "metadata": {
        "id": "view-in-github",
        "colab_type": "text"
      },
      "source": [
        "<a href=\"https://colab.research.google.com/github/MJ-best/coding_test_study/blob/master/20230511_7%EC%9D%BC%EC%B0%A8_%EA%B5%AC%ED%98%84.ipynb\" target=\"_parent\"><img src=\"https://colab.research.google.com/assets/colab-badge.svg\" alt=\"Open In Colab\"/></a>"
      ]
    },
    {
      "cell_type": "markdown",
      "source": [
        "체육복문제"
      ],
      "metadata": {
        "id": "BQDZxN_2FxQQ"
      }
    },
    {
      "cell_type": "code",
      "source": [
        "n = 5\n",
        "lost = [2 ,4]\n",
        "reserve = [3]"
      ],
      "metadata": {
        "id": "PzTb1IJG-Jn6"
      },
      "execution_count": 19,
      "outputs": []
    },
    {
      "cell_type": "code",
      "source": [
        "l = set(lost)\n",
        "r = set(reserve)\n",
        "s = set()\n",
        "\n",
        "l -= r\n",
        "r -= l\n",
        "\n",
        "for i in l.copy():\n",
        "    if i+1 in r:\n",
        "        r.remove(i+1)\n",
        "        s.add(i)\n",
        "    elif i-1 in r:\n",
        "        r.remove(i-1)\n",
        "        s.add(i)\n",
        "\n",
        "\n",
        "ans = n - len(l) + len(s)\n",
        "print(ans)\n"
      ],
      "metadata": {
        "colab": {
          "base_uri": "https://localhost:8080/"
        },
        "id": "Gmawr1JSBIV9",
        "outputId": "a8710985-663a-4b38-b703-cd4783e9eadc"
      },
      "execution_count": 20,
      "outputs": [
        {
          "output_type": "stream",
          "name": "stdout",
          "text": [
            "4\n"
          ]
        }
      ]
    },
    {
      "cell_type": "code",
      "source": [
        "_reserve = [r for r in reserve if r not in lost]\n",
        "_lost = [l for l in lost if l not in reserve]\n",
        "for r in _reserve:\n",
        "    f = r - 1\n",
        "    b = r + 1\n",
        "    if f in _lost:\n",
        "        _lost.remove(f)\n",
        "    elif b in _lost:\n",
        "        _lost.remove(b)\n",
        "\n",
        "print(n - len(_lost))\n"
      ],
      "metadata": {
        "colab": {
          "base_uri": "https://localhost:8080/"
        },
        "id": "WRldzetlB9rI",
        "outputId": "435a5bca-9a0e-4445-c595-aa40a52aec38"
      },
      "execution_count": 21,
      "outputs": [
        {
          "output_type": "stream",
          "name": "stdout",
          "text": [
            "4\n"
          ]
        }
      ]
    },
    {
      "cell_type": "markdown",
      "source": [
        "상하좌우 문제"
      ],
      "metadata": {
        "id": "9114DcAqF0Yh"
      }
    },
    {
      "cell_type": "code",
      "source": [
        "n = 5\n",
        "plans = ['R','R','R','U','D','D']"
      ],
      "metadata": {
        "id": "eip_L-M4Gmcr"
      },
      "execution_count": 33,
      "outputs": []
    },
    {
      "cell_type": "code",
      "source": [
        "x = 1\n",
        "y = 1\n",
        "dx = [0,0,-1,1]\n",
        "dy = [-1,1,0,0]\n",
        "move_type = ['L','R','U','D']\n",
        "\n",
        "for plan in plans:\n",
        "    for i in range(len(move_type)):\n",
        "        if plan == move_type[i]:\n",
        "            nx = x + dx[i]\n",
        "            ny = y + dy[i]\n",
        "\n",
        "    if nx < 1 or ny <1 or nx > n or ny > n:\n",
        "        continue\n",
        "\n",
        "    x, y = nx, ny\n",
        "\n",
        "print(x, y)\n"
      ],
      "metadata": {
        "colab": {
          "base_uri": "https://localhost:8080/"
        },
        "id": "X54g2UDWG_wN",
        "outputId": "01e8cf99-df45-4cb4-acb9-7585574b1223"
      },
      "execution_count": 36,
      "outputs": [
        {
          "output_type": "stream",
          "name": "stdout",
          "text": [
            "3 4\n"
          ]
        }
      ]
    },
    {
      "cell_type": "code",
      "source": [
        "n = int(input())\n",
        "plans = []\n",
        "plans = input().split()"
      ],
      "metadata": {
        "colab": {
          "base_uri": "https://localhost:8080/"
        },
        "id": "2w7tFxu-Juul",
        "outputId": "e86c042a-d2db-4ec6-bb93-91b1071cbfa8"
      },
      "execution_count": 40,
      "outputs": [
        {
          "name": "stdout",
          "output_type": "stream",
          "text": [
            "5\n",
            "R R D D L\n"
          ]
        }
      ]
    },
    {
      "cell_type": "code",
      "source": [
        "x = 1\n",
        "y = 1\n",
        "\n",
        "dy = [0, 0, 1, -1]\n",
        "dx = [1, -1, 0, 0]\n",
        "move = ['R','L','D','U']\n",
        "\n",
        "for plan in plans:\n",
        "    for i in range(len(move)):\n",
        "        if plan == move[i]:\n",
        "            ny = y + dy[i]\n",
        "            nx = x + dx[i]\n",
        "    if nx < 0 or ny < 0 or nx > n or ny > n:\n",
        "        continue\n",
        "    \n",
        "    y = ny\n",
        "    x = nx\n",
        "\n",
        "print(y, x)"
      ],
      "metadata": {
        "colab": {
          "base_uri": "https://localhost:8080/"
        },
        "id": "gPQ4pDhQK1Np",
        "outputId": "4a6e5324-59ac-4079-cfff-afc9b74c5022"
      },
      "execution_count": 42,
      "outputs": [
        {
          "output_type": "stream",
          "name": "stdout",
          "text": [
            "3 2\n"
          ]
        }
      ]
    },
    {
      "cell_type": "markdown",
      "source": [
        "시각"
      ],
      "metadata": {
        "id": "e7vR9w-LNcuK"
      }
    },
    {
      "cell_type": "code",
      "source": [
        "time = []\n",
        "for hour in range(24):\n",
        "    for minute in range(60):\n",
        "        for second in range(60):\n",
        "                time.append(str(str(hour)+\":\"+str(minute)+\":\"+str(second)))"
      ],
      "metadata": {
        "id": "DDDmTQdoMnkk"
      },
      "execution_count": 75,
      "outputs": []
    },
    {
      "cell_type": "code",
      "source": [
        "ans = 0\n",
        "n = 5\n",
        "time_index = (n+1) * 3600 - 1\n",
        "\n",
        "for i in time[0:time_index]:\n",
        "    if \"3\" in i:\n",
        "        ans += 1\n",
        "\n",
        "ans\n"
      ],
      "metadata": {
        "colab": {
          "base_uri": "https://localhost:8080/"
        },
        "id": "5geijNIfP-q9",
        "outputId": "3b1c95de-6073-48b0-cb03-bee0ff270ab6"
      },
      "execution_count": 74,
      "outputs": [
        {
          "output_type": "execute_result",
          "data": {
            "text/plain": [
              "11475"
            ]
          },
          "metadata": {},
          "execution_count": 74
        }
      ]
    },
    {
      "cell_type": "code",
      "source": [
        "n = int(input())\n",
        "ans = 0\n",
        "\n",
        "time = []\n",
        "for hour in range(24):\n",
        "    for minute in range(60):\n",
        "        for second in range(60):\n",
        "                time.append(str(str(hour)+\":\"+str(minute)+\":\"+str(second)))\n",
        "\n",
        "time_index = (n+1) * 3600 - 1\n",
        "\n",
        "for i in time[0:time_index]:\n",
        "    if \"3\" in i:\n",
        "        ans += 1\n",
        "\n",
        "ans\n"
      ],
      "metadata": {
        "colab": {
          "base_uri": "https://localhost:8080/"
        },
        "id": "cGS3NBEcQiBi",
        "outputId": "512c5ff2-ded6-417e-93ad-e3eebf645fae"
      },
      "execution_count": 76,
      "outputs": [
        {
          "name": "stdout",
          "output_type": "stream",
          "text": [
            "6\n"
          ]
        },
        {
          "output_type": "execute_result",
          "data": {
            "text/plain": [
              "13050"
            ]
          },
          "metadata": {},
          "execution_count": 76
        }
      ]
    },
    {
      "cell_type": "markdown",
      "source": [
        "왕실의 나이트"
      ],
      "metadata": {
        "id": "KraAhwlzRB0s"
      }
    },
    {
      "cell_type": "code",
      "source": [
        "place = input()\n",
        "\n",
        "x_place = ['a','b','c','d','e','f','g','h']\n",
        "for i in range(len(x_place)):\n",
        "    if place[0] == x_place[i]:\n",
        "        x, y = i+1 , int(place[1])\n",
        "\n",
        "print(\"처음위치(x,y)\",x,y)\n",
        "\n",
        "paths = ['RRU','RRD','LLU','LLD','DDR','DDL','UUR','UUL']\n",
        "\n",
        "dx = [-1, 1, -1, 1, 2, 2, -2, -2]\n",
        "dy = [2, 2, -2, -2, 1, -1, 1, -1]\n",
        "move = ['RRU','RRD','LLU','LLD','DDR','DDL','UUR','UUL']\n",
        "\n",
        "ans = 0\n",
        "\n",
        "for path in paths:\n",
        "    for i in range(len(move)):\n",
        "        if path == move[i]:\n",
        "            nx = x + dx[i]\n",
        "            ny = y + dy[i]\n",
        "    if nx <= 0 or ny <= 0 or nx > 8 or ny > 8:\n",
        "            continue\n",
        "    ans += 1\n",
        "    print(nx, ny)\n",
        "\n",
        "print(\"갈 수 있는 경우의 수 : \",ans)"
      ],
      "metadata": {
        "colab": {
          "base_uri": "https://localhost:8080/"
        },
        "id": "trqRIJpDSSpn",
        "outputId": "121415e8-5342-4dd3-9ae0-58605f3efb90"
      },
      "execution_count": 96,
      "outputs": [
        {
          "output_type": "stream",
          "name": "stdout",
          "text": [
            "e3\n",
            "처음위치(x,y) 5 3\n",
            "4 5\n",
            "6 5\n",
            "4 1\n",
            "6 1\n",
            "7 4\n",
            "7 2\n",
            "3 4\n",
            "3 2\n",
            "갈 수 있는 경우의 수 :  8\n"
          ]
        }
      ]
    },
    {
      "cell_type": "code",
      "source": [],
      "metadata": {
        "id": "h6sQfYDaYlQT"
      },
      "execution_count": null,
      "outputs": []
    }
  ]
}